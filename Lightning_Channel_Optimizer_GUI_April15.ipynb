{
 "cells": [
  {
   "cell_type": "code",
   "execution_count": 1,
   "metadata": {
    "scrolled": false
   },
   "outputs": [
    {
     "data": {
      "text/html": [
       "<script>\n",
       "code_show=true; \n",
       "function code_toggle() {\n",
       " if (code_show){\n",
       " $('div.input').hide();\n",
       " } else {\n",
       " $('div.input').show();\n",
       " }\n",
       " code_show = !code_show\n",
       "} \n",
       "$( document ).ready(code_toggle);\n",
       "</script>\n",
       "<form action=\"javascript:code_toggle()\"><input type=\"submit\" value=\"Click here to toggle on/off the raw code.\"></form>"
      ],
      "text/plain": [
       "<IPython.core.display.HTML object>"
      ]
     },
     "execution_count": 1,
     "metadata": {},
     "output_type": "execute_result"
    }
   ],
   "source": [
    "from IPython.display import HTML\n",
    "\n",
    "HTML('''<script>\n",
    "code_show=true; \n",
    "function code_toggle() {\n",
    " if (code_show){\n",
    " $('div.input').hide();\n",
    " } else {\n",
    " $('div.input').show();\n",
    " }\n",
    " code_show = !code_show\n",
    "} \n",
    "$( document ).ready(code_toggle);\n",
    "</script>\n",
    "<form action=\"javascript:code_toggle()\"><input type=\"submit\" value=\"Click here to toggle on/off the raw code.\"></form>''')"
   ]
  },
  {
   "cell_type": "code",
   "execution_count": 2,
   "metadata": {
    "code_folding": [
     0
    ]
   },
   "outputs": [],
   "source": [
    "# IMPORT LIBRARIES\n",
    "import numpy as np \n",
    "import pandas as pd \n",
    "import seaborn as sns\n",
    "import matplotlib.pyplot as plt\n",
    "from matplotlib.ticker import ScalarFormatter\n",
    "from datetime import datetime\n",
    "from random import choice\n",
    "import random\n",
    "import networkx as nx\n",
    "import os\n",
    "import json\n",
    "from pandas.io.json import json_normalize\n",
    "import collections\n",
    "import itertools\n",
    "import warnings\n",
    "import ipywidgets as widgets\n",
    "from ipywidgets import HBox, Label\n",
    "import requests\n",
    "\n",
    "from ipywidgets import Layout, Button, Box, VBox\n",
    "\n",
    "warnings.filterwarnings('ignore')"
   ]
  },
  {
   "cell_type": "code",
   "execution_count": 3,
   "metadata": {
    "code_folding": [
     0
    ]
   },
   "outputs": [],
   "source": [
    "# GET THE MAIN GRAPH\n",
    "def get_main_subgraph(G):\n",
    "    all_sub_G = list(nx.connected_component_subgraphs(G))\n",
    "    largest_sg = 0\n",
    "    for i, sg in enumerate(all_sub_G):\n",
    "        if sg.number_of_nodes() > largest_sg:\n",
    "            largest_sg = sg.number_of_nodes()\n",
    "            main_G = sg\n",
    "    return main_G"
   ]
  },
  {
   "cell_type": "code",
   "execution_count": 4,
   "metadata": {
    "code_folding": [
     0
    ]
   },
   "outputs": [],
   "source": [
    "# GET DATA\n",
    "lightning_dir = \"~/lightning/cli/\"\n",
    "filename='demo_'\n",
    "\n",
    "save_dir = \"> /Users/dariuscognac/Documents/GitHub/Lightning-Network-Topological-Analysis/\"\n",
    "listnodes = lightning_dir + \"lightning-cli listnodes\" + save_dir + filename + \"list_of_nodes.json\"\n",
    "listchannels = lightning_dir + \"lightning-cli listchannels\" + save_dir + filename + \"list_of_channels.json\"\n",
    "getinfo = lightning_dir + \"lightning-cli getinfo\" + save_dir + filename + \"info.json\"\n",
    "\n",
    "# os.system(listnodes);\n",
    "# os.system(listchannels);\n",
    "# os.system(getinfo);\n",
    "\n",
    "\n",
    "# LOAD AND FORMAT DATA\n",
    "nodes_temp = pd.read_json(filename + 'list_of_nodes.json')\n",
    "nodes_table = json_normalize(nodes_temp['nodes'])\n",
    "channels_temp = pd.read_json(filename + 'list_of_channels.json')\n",
    "channels_table = json_normalize(channels_temp['channels'])\n",
    "with open('demo_info.json') as json_data:\n",
    "    info = json.load(json_data)\n",
    "my_node_id = info['id']\n",
    "\n",
    "\n",
    "# MAKE GRAPH\n",
    "G = nx.Graph()\n",
    "G.add_nodes_from(nodes_table['nodeid'])\n",
    "edges_list = [(channels_table['source'][i], channels_table['destination'][i]) for i in range(len(channels_table))]\n",
    "G.add_edges_from(edges_list)\n",
    "\n",
    "G = get_main_subgraph(G)"
   ]
  },
  {
   "cell_type": "code",
   "execution_count": 5,
   "metadata": {
    "code_folding": [
     0
    ]
   },
   "outputs": [],
   "source": [
    "# LIGHTNING FUNCTIONS\n",
    "\n",
    "# CONNECT TO SELECTED NODES\n",
    "def connect_to_new_neighbors(new_neighbors, channel_capacity_sats):\n",
    "    node_alias=[]; num_channels=[]; ip_address=[]\n",
    "    for i in range(len(new_neighbors)):\n",
    "        nd = nodes_table[nodes_table['nodeid']==new_neighbors[i]]\n",
    "        node_alias.append(str(nd['alias']))\n",
    "        num_channels.append(len(list(G.neighbors(new_neighbors[i]))))\n",
    "        ip_address.append(list(nd['addresses'])[0][0]['address'])\n",
    "\n",
    "        print(\"Setting up payment channel with \"+node_alias[i]+\"\\n\");\n",
    "#         connect = lightning_dir+\"lightning-cli connect \"+new_neighbors[i]+\"@\"+ip_address[i]\n",
    "#         print(connect)\n",
    "    #     os.system(connect);\n",
    "\n",
    "        fund_channel = lightning_dir+\"lightning-cli fundchannel \"+new_neighbors[i]+\" \"+str(channel_capacity_sats)\n",
    "#         print(fund_channel)\n",
    "#         print(\"\\n\")\n",
    "    #     os.system(fund_channel);\n",
    "    \n",
    "    \n",
    "    \n",
    "\n",
    "# DISPLAY NEW NEIGHBOR INFO\n",
    "def display_new_neighbors(G, new_neighbors):\n",
    "    print(\"Do you want to connect to the following nodes?\\n\\n\")\n",
    "    node_alias=[]; num_channels=[]; ip_address=[]\n",
    "\n",
    "    for i in range(len(new_neighbors)):\n",
    "        nd = nodes_table[nodes_table['nodeid']==new_neighbors[i]]\n",
    "        node_alias.append(str(nd['alias']))\n",
    "        num_channels.append(len(list(G.neighbors(new_neighbors[i]))))\n",
    "        ip_address.append(list(nd['addresses'])[0][0]['address'])\n",
    "        print(\"node ID: \"+new_neighbors[i])\n",
    "        print(\"node alias: \"+node_alias[i])\n",
    "        print(\"number of channels: \"+str(num_channels[i])+\"\\n\")\n",
    "       \n",
    "    \n",
    "# CREATE NEW GRAPH WITH NEW NODE AND EDGES\n",
    "def make_graph_with_new_neighbors(G, new_neighbors, new_node_id=my_node_id):\n",
    "    G_new = G.copy()\n",
    "    G_new.add_node(new_node_id)\n",
    "    new_edges = [(new_node_id,i) for i in new_neighbors]\n",
    "    G_new.add_edges_from(new_edges)\n",
    "    return(G_new)"
   ]
  },
  {
   "cell_type": "code",
   "execution_count": 6,
   "metadata": {
    "code_folding": [
     0
    ]
   },
   "outputs": [],
   "source": [
    "# FUNCTIONS FOR PICKING NEIGHBORS\n",
    "\n",
    "def pick_highest_metric_nodes(G, centrality_measure, num_channels_to_make):    \n",
    "    centrality_dict = get_centrality_dict(G, centrality_measure)\n",
    "    centrality_list = [(id, centrality_dict.get(id)) for id in centrality_dict]\n",
    "    sorted_by_second = sorted(centrality_list, key=lambda tup: tup[1], reverse=True) # Sort by betweenness centrality\n",
    "    return [id for id, val in sorted_by_second[0: (num_channels_to_make)]]\n",
    "\n",
    "\n",
    "def pick_poor_connected_nodes(G, min_degree, num_channels_to_make):\n",
    "    degree = get_centrality_dict(G, 'degree')\n",
    "    between_centrality = get_centrality_dict(G, 'betweenness')\n",
    "    \n",
    "    min_degree_nodes = set()\n",
    "    for id, deg in degree.items():\n",
    "        if deg > min_degree:\n",
    "            min_degree_nodes.add(id)\n",
    "            \n",
    "    bet_centrality = [(id, between_centrality.get(id)) for id in min_degree_nodes]\n",
    "    sorted_by_second = sorted(bet_centrality, key=lambda tup: tup[1]) # Sort by betweenness centrality\n",
    "    return [id for id, val in sorted_by_second[0: (num_channels_to_make)]]\n"
   ]
  },
  {
   "cell_type": "code",
   "execution_count": 7,
   "metadata": {
    "code_folding": []
   },
   "outputs": [],
   "source": [
    "# PLOTTING FUNCTIONS\n",
    "\n",
    "def plot_ego_graph(fig, ax, G, new_node_id, centrality_measure, edge_radius):\n",
    "    # Create ego graphs\n",
    "    ego_graph = nx.ego_graph(G, new_node_id, radius=edge_radius)\n",
    "\n",
    "    pos=nx.spring_layout(ego_graph, seed=3)\n",
    "    centrality_dict = get_centrality_dict(G, centrality_measure)\n",
    "\n",
    "    # Draw larger extended network \n",
    "    graph1_color_vals = [centrality_dict.get(node) for node in ego_graph.nodes()]\n",
    "    nx.draw_networkx_nodes(ego_graph, ax=ax, pos=pos, cmap=plt.get_cmap('viridis'), \n",
    "            node_color=graph1_color_vals, node_size=100, alpha=0.6)\n",
    "    nx.draw_networkx_edges(ego_graph, ax=ax, pos=pos, alpha=0.3, edge_color='grey')\n",
    "\n",
    "    # Draw immediate network with stronger alpha\n",
    "    immediate_graph = nx.ego_graph(G, new_node_id, radius=1)\n",
    "    \n",
    "    graph2_color_vals = [centrality_dict.get(node) for node in immediate_graph.nodes()]\n",
    "    nx.draw(immediate_graph, ax=ax, pos=pos, cmap=plt.get_cmap('viridis'), with_labels = False, \n",
    "            node_color=graph2_color_vals, node_size=400, alpha=1, edge_color='k', width = 5)\n",
    "    \n",
    "    # Create 'X' label for new node\n",
    "    labels = {}    \n",
    "    for node in immediate_graph.nodes():\n",
    "        if node == new_node_id:\n",
    "            #set the node name as the key and the label as its value \n",
    "            labels[node] = 'X'\n",
    "    nx.draw_networkx_labels(immediate_graph, pos, labels, font_size=18, font_color='r', font_weight='bold', ax=ax)\n",
    "    \n",
    "    \n",
    "def get_centrality_dict(G, centrality_measure):\n",
    "    switcher = {\n",
    "        'degree': dict(nx.degree(G)) ,\n",
    "        'betweenness': nx.betweenness_centrality(G),\n",
    "        'closeness': nx.closeness_centrality(G),\n",
    "        'eccentricity': nx.eccentricity(G)\n",
    "    }\n",
    "    return switcher.get(centrality_measure)\n",
    "\n",
    "\n",
    "def plot_centrality_hist(fig, ax, G, centrality_measure, new_node_id):\n",
    "    centrality_dict = get_centrality_dict(G, centrality_measure)\n",
    "    \n",
    "    ax.hist(centrality_dict.values(),bins=25)\n",
    "    node_centrality_value = centrality_dict.get(new_node_id)\n",
    "    ax.axvline(x=node_centrality_value, color='r', linewidth=5)\n",
    "    \n",
    "    ax.set_yscale('log')    \n",
    "    ax.yaxis.set_major_formatter(ScalarFormatter())\n",
    "    ax.title.set_text(centrality_measure + ' = ' + '%.2g' % node_centrality_value)\n",
    "    \n",
    "    \n",
    "def plot_new_node_summary_fig(G, new_node_id, edge_radius):\n",
    "    sns.set(font_scale=2)\n",
    "    \n",
    "    fig = plt.figure(0, figsize=(16,16))\n",
    "    ax0 = plt.subplot2grid((3, 3), (0, 0), colspan=3, rowspan=2)\n",
    "    ax1 = plt.subplot2grid((3, 3), (2, 0))\n",
    "    ax2 = plt.subplot2grid((3, 3), (2, 1))\n",
    "    ax3 = plt.subplot2grid((3, 3), (2, 2))\n",
    "\n",
    "    plot_ego_graph(fig, ax0, G, new_node_id, centrality_measure='betweenness', edge_radius=edge_radius)\n",
    "    plot_centrality_hist(fig, ax1, G, centrality_measure='degree', new_node_id=new_node_id)\n",
    "    plot_centrality_hist(fig, ax2, G, centrality_measure='betweenness', new_node_id=new_node_id)\n",
    "    plot_centrality_hist(fig, ax3, G, centrality_measure='closeness', new_node_id=new_node_id)\n",
    "    \n",
    "    plt.show()\n",
    "    "
   ]
  },
  {
   "cell_type": "code",
   "execution_count": 8,
   "metadata": {
    "code_folding": [],
    "scrolled": false
   },
   "outputs": [],
   "source": [
    "# GUI\n",
    "\n",
    "# BUTTONS\n",
    "suggest_node_button = widgets.Button(description='Suggest nodes')\n",
    "def suggest_nodes(b):\n",
    "    global new_neighbors\n",
    "    new_neighbors = pick_highest_metric_nodes(\n",
    "        G, centrality_measure=centrality_buttons.value, num_channels_to_make=payment_channel_slider.value)\n",
    "suggest_node_button.on_click(suggest_nodes)\n",
    "\n",
    "\n",
    "plot_suggested_nodes_button = widgets.Button(description='Plot suggested nodes')\n",
    "def plot_suggested_nodes(b):    \n",
    "    G_new = make_graph_with_new_neighbors(G, new_neighbors, my_node_id)\n",
    "    plot_new_node_summary_fig(G_new, new_node_id=my_node_id, edge_radius=2)\n",
    "plot_suggested_nodes_button.on_click(plot_suggested_nodes)\n",
    "\n",
    "\n",
    "connect_to_node_button = widgets.Button(description='Connect to nodes')\n",
    "def connect_nodes(b):\n",
    "    connect_to_new_neighbors(new_neighbors, channel_capacity_sats=channel_capacity_text.value)\n",
    "connect_to_node_button.on_click(connect_nodes)\n",
    "\n",
    "\n",
    "preset_casual_button = widgets.Button(description='casual')\n",
    "def preset_casual(b):\n",
    "    centrality_buttons.value = 'closeness'\n",
    "    payment_channel_slider.value = 2\n",
    "    channel_capacity_text.value = 20000\n",
    "preset_casual_button.on_click(preset_casual)\n",
    "\n",
    "\n",
    "preset_business_button = widgets.Button(description='business')\n",
    "def preset_business(b):\n",
    "    centrality_buttons.value = 'betweenness'\n",
    "    payment_channel_slider.value = 50\n",
    "    channel_capacity_text.value = 10000000\n",
    "preset_business_button.on_click(preset_business)\n",
    "\n",
    "\n",
    "centrality_buttons = widgets.ToggleButtons(options=['closeness', 'betweenness'], value = 'closeness')\n",
    "centrality_box = HBox([Label('Centrality to maximize:'), centrality_buttons])\n",
    "\n",
    "\n",
    "payment_channel_slider = widgets.IntSlider(value = 2)\n",
    "payment_channel_box = HBox([Label('Number of payment channels:'), payment_channel_slider])\n",
    "\n",
    "\n",
    "channel_capacity_text = widgets.IntText(value = 20000)\n",
    "channel_capacity_box = HBox([Label('Capacity per channel (sats):'), channel_capacity_text])\n"
   ]
  },
  {
   "cell_type": "markdown",
   "metadata": {},
   "source": [
    "# Lightning Payment Channel Optimizer\n",
    "\n",
    "### Network Properties"
   ]
  },
  {
   "cell_type": "code",
   "execution_count": 9,
   "metadata": {
    "code_folding": [
     0
    ]
   },
   "outputs": [
    {
     "name": "stdout",
     "output_type": "stream",
     "text": [
      "Number of nodes = 1779\n",
      "Number of edges (payment channels) = 8514\n",
      "node ID: 037a7c0723cbaf0523445235540f12a74df3ca71d9f723c1a391f7d1d61753643c\n"
     ]
    }
   ],
   "source": [
    "# Print network properties\n",
    "print('Number of nodes = ' + str(len(G.nodes())))\n",
    "print('Number of edges (payment channels) = ' + str(len(G.edges())))\n",
    "print('node ID: ' + my_node_id)"
   ]
  },
  {
   "cell_type": "code",
   "execution_count": 10,
   "metadata": {},
   "outputs": [
    {
     "data": {
      "application/vnd.jupyter.widget-view+json": {
       "model_id": "91420d914266429a94df632f4f1e4b07",
       "version_major": 2,
       "version_minor": 0
      },
      "text/plain": [
       "Button(description='casual', style=ButtonStyle())"
      ]
     },
     "metadata": {},
     "output_type": "display_data"
    },
    {
     "data": {
      "application/vnd.jupyter.widget-view+json": {
       "model_id": "212142c8868c478c9d4eae1b76106a6e",
       "version_major": 2,
       "version_minor": 0
      },
      "text/plain": [
       "Button(description='business', style=ButtonStyle())"
      ]
     },
     "metadata": {},
     "output_type": "display_data"
    },
    {
     "data": {
      "application/vnd.jupyter.widget-view+json": {
       "model_id": "b71a21a97ae74087aa176fd908d6126e",
       "version_major": 2,
       "version_minor": 0
      },
      "text/plain": [
       "HBox(children=(Label(value='Centrality to maximize:'), ToggleButtons(options=('closeness', 'betweenness'), val…"
      ]
     },
     "metadata": {},
     "output_type": "display_data"
    },
    {
     "data": {
      "application/vnd.jupyter.widget-view+json": {
       "model_id": "46e380d6c98844cea8ad255f41e2031e",
       "version_major": 2,
       "version_minor": 0
      },
      "text/plain": [
       "HBox(children=(Label(value='Number of payment channels:'), IntSlider(value=2)))"
      ]
     },
     "metadata": {},
     "output_type": "display_data"
    },
    {
     "data": {
      "application/vnd.jupyter.widget-view+json": {
       "model_id": "c0a9e6661361474c81df4b891a88305d",
       "version_major": 2,
       "version_minor": 0
      },
      "text/plain": [
       "HBox(children=(Label(value='Capacity per channel (sats):'), IntText(value=20000)))"
      ]
     },
     "metadata": {},
     "output_type": "display_data"
    },
    {
     "data": {
      "application/vnd.jupyter.widget-view+json": {
       "model_id": "79caf80ddba44bf484afe634b55eefc4",
       "version_major": 2,
       "version_minor": 0
      },
      "text/plain": [
       "Button(description='Suggest nodes', style=ButtonStyle())"
      ]
     },
     "metadata": {},
     "output_type": "display_data"
    }
   ],
   "source": [
    "display(preset_casual_button, preset_business_button)\n",
    "display(centrality_box, payment_channel_box, channel_capacity_box)\n",
    "display(suggest_node_button)"
   ]
  },
  {
   "cell_type": "code",
   "execution_count": 11,
   "metadata": {},
   "outputs": [
    {
     "data": {
      "application/vnd.jupyter.widget-view+json": {
       "model_id": "a927c76024284c90b08aaa5c5b5b2fdc",
       "version_major": 2,
       "version_minor": 0
      },
      "text/plain": [
       "Button(description='Plot suggested nodes', style=ButtonStyle())"
      ]
     },
     "metadata": {},
     "output_type": "display_data"
    }
   ],
   "source": [
    "display(plot_suggested_nodes_button)"
   ]
  },
  {
   "cell_type": "code",
   "execution_count": 12,
   "metadata": {},
   "outputs": [
    {
     "data": {
      "application/vnd.jupyter.widget-view+json": {
       "model_id": "b564d51b9ddc4d3a8971ab4f4662b255",
       "version_major": 2,
       "version_minor": 0
      },
      "text/plain": [
       "Button(description='Connect to nodes', style=ButtonStyle())"
      ]
     },
     "metadata": {},
     "output_type": "display_data"
    }
   ],
   "source": [
    "display(connect_to_node_button)"
   ]
  }
 ],
 "metadata": {
  "kernelspec": {
   "display_name": "Python 3",
   "language": "python",
   "name": "python3"
  },
  "language_info": {
   "codemirror_mode": {
    "name": "ipython",
    "version": 3
   },
   "file_extension": ".py",
   "mimetype": "text/x-python",
   "name": "python",
   "nbconvert_exporter": "python",
   "pygments_lexer": "ipython3",
   "version": "3.7.0"
  }
 },
 "nbformat": 4,
 "nbformat_minor": 2
}
