{
 "cells": [
  {
   "cell_type": "code",
   "execution_count": 4,
   "metadata": {},
   "outputs": [],
   "source": [
    "import numpy as np \n",
    "import pandas as pd \n",
    "import seaborn as sns\n",
    "import matplotlib.pyplot as plt\n",
    "from datetime import datetime\n",
    "from random import choice\n",
    "import random\n",
    "import networkx as nx\n",
    "import os\n",
    "import collections\n",
    "from pandas.io.json import json_normalize"
   ]
  },
  {
   "cell_type": "code",
   "execution_count": 5,
   "metadata": {},
   "outputs": [],
   "source": [
    "# SET CHANNEL PREFERENCES\n",
    "connectedness_percentile = 99\n",
    "num_channels_to_make = 3\n",
    "channel_capacity_sats = 20000"
   ]
  },
  {
   "cell_type": "code",
   "execution_count": 6,
   "metadata": {
    "code_folding": []
   },
   "outputs": [
    {
     "name": "stdout",
     "output_type": "stream",
     "text": [
      "Number of nodes = 4117\n",
      "Number of edges (payment channels) = 4917\n",
      "\n",
      "\n",
      "\n"
     ]
    }
   ],
   "source": [
    "# GET DATA\n",
    "lightning_dir = \"~/lightning/cli/\"\n",
    "save_dir = \"> /Users/dariuscognac/Documents/GitHub/Lightning-Network-Topological-Analysis/\"\n",
    "listnodes = lightning_dir + \"lightning-cli listnodes\" + save_dir + \"list_of_nodes.json\"\n",
    "listchannels = lightning_dir + \"lightning-cli listchannels\" + save_dir + \"list_of_channels.json\"\n",
    "\n",
    "# os.system(listnodes);\n",
    "# os.system(listchannels);\n",
    "\n",
    "\n",
    "# LOAD AND FORMAT DATA\n",
    "nodes_temp = pd.read_json('list_of_nodes.json')\n",
    "nodes_table = json_normalize(nodes_temp['nodes'])\n",
    "\n",
    "channels_temp = pd.read_json('list_of_channels.json')\n",
    "channels_table = json_normalize(channels_temp['channels'])\n",
    "\n",
    "\n",
    "# MAKE GRAPH\n",
    "G = nx.Graph()\n",
    "G.add_nodes_from(nodes_table['nodeid'])\n",
    "edges_list = [(channels_table['source'][i], channels_table['destination'][i]) for i in range(len(channels_table))]\n",
    "G.add_edges_from(edges_list)\n",
    "\n",
    "print('Number of nodes = ' + str(len(G.nodes())))\n",
    "print('Number of edges (payment channels) = ' + str(len(G.edges())))\n",
    "print('\\n\\n')\n",
    "\n",
    "# Get just the main graph\n",
    "def get_main_subgraph(G):\n",
    "    all_sub_G = list(nx.connected_component_subgraphs(G))\n",
    "    largest_sg = 0\n",
    "    for i, sg in enumerate(all_sub_G):\n",
    "        if sg.number_of_nodes() > largest_sg:\n",
    "            largest_sg = sg.number_of_nodes()\n",
    "            main_G = sg\n",
    "    return main_G\n",
    "\n",
    "\n",
    "# Define find_nodes_with_highest_deg_cent()\n",
    "def find_nodes_high_percentile_deg_cent(G, connectedness_percentile):\n",
    "    # Compute the degree centrality of G: deg_cent      \n",
    "    deg_cent = nx.degree_centrality(G)\n",
    "    # Compute the X percentile of degree centrality\n",
    "    dc = list(deg_cent.values())\n",
    "    high_percentile_dc = np.percentile(dc, connectedness_percentile)\n",
    "    nodes = set()\n",
    "    # Iterate over the degree centrality dictionary\n",
    "    for k, v in deg_cent.items():\n",
    "        # Check if the current value has the maximum degree centrality\n",
    "        if v > high_percentile_dc:\n",
    "            # Add the current node to the set of nodes\n",
    "            nodes.add(k)\n",
    "    return nodes\n",
    "\n",
    "\n",
    "def plot_deg_hist(G):\n",
    "    degree_sequence = sorted([d for n, d in G.degree()], reverse=True)  # degree sequence\n",
    "    # print \"Degree sequence\", degree_sequence\n",
    "    degreeCount = collections.Counter(degree_sequence)\n",
    "    deg, cnt = zip(*degreeCount.items())\n",
    "\n",
    "    fig, ax = plt.subplots()\n",
    "    plt.bar(deg, cnt, width=0.80, color='b')\n",
    "    plt.setp(ax.patches, linewidth=0)\n",
    "    \n",
    "    plt.title(\"Degree Histogram\")\n",
    "    plt.ylabel(\"Count\")\n",
    "    plt.xlabel(\"Degree\")\n",
    "    ax.set_xticks([d + 0.4 for d in deg])\n",
    "    ax.set_xticklabels(deg)\n",
    "    ax.set_yscale('log')\n",
    "    ax.set_xscale('log')\n",
    "\n",
    "    \n",
    "    plt.show()\n",
    "    \n",
    "    \n",
    "\n",
    "def plot_eig_hist(G):\n",
    "    degree_sequence = sorted([d for n, d in nx.eigenvector_centrality(G)], reverse=True)  # degree sequence\n",
    "    # print \"Degree sequence\", degree_sequence\n",
    "    degreeCount = collections.Counter(degree_sequence)\n",
    "    deg, cnt = zip(*degreeCount.items())\n",
    "\n",
    "    fig, ax = plt.subplots()\n",
    "    plt.bar(deg, cnt, width=0.80, color='b')\n",
    "\n",
    "    plt.title(\"Eigenvalue Centrality Histogram\")\n",
    "    plt.ylabel(\"Count\")\n",
    "    plt.xlabel(\"Eigenvalue Centrality\")\n",
    "    ax.set_xticks([d + 0.4 for d in deg])\n",
    "    ax.set_xticklabels(deg)\n",
    "    ax.set_yscale('log')\n",
    "    ax.set_xscale('log')\n",
    "\n",
    "    plt.show()"
   ]
  },
  {
   "cell_type": "code",
   "execution_count": 8,
   "metadata": {},
   "outputs": [],
   "source": [
    "H = get_main_subgraph(G)"
   ]
  },
  {
   "cell_type": "code",
   "execution_count": 45,
   "metadata": {},
   "outputs": [],
   "source": [
    "degree_sequence = sorted([d for n, d in H.degree()], reverse=True)  # degree sequence\n",
    "    # print \"Degree sequence\", degree_sequence\n",
    "degreeCount = collections.Counter(degree_sequence)\n",
    "deg, cnt = zip(*degreeCount.items())"
   ]
  },
  {
   "cell_type": "code",
   "execution_count": 54,
   "metadata": {},
   "outputs": [
    {
     "data": {
      "image/png": "[encoded data removed]",
      "text/plain": [
       "<Figure size 432x288 with 1 Axes>"
      ]
     },
     "metadata": {},
     "output_type": "display_data"
    }
   ],
   "source": [
    "sns.set()\n",
    "fig, ax = plt.subplots()\n",
    "# plt.hist(nx.betweenness_centrality(H).values(),bins=25)\n",
    "plt.hist(nx.closeness_centrality(H).values(),bins=25)\n",
    "ax.set_yscale('log')\n",
    "plt.show()"
   ]
  },
  {
   "cell_type": "code",
   "execution_count": 39,
   "metadata": {},
   "outputs": [
    {
     "data": {
      "text/plain": [
       "dict_values([0, 0, 0, 1, 13, 0, 6, 0, 0, 0, 0, 0, 0, 0, 3, 35, 24, 1, 0, 2, 0, 0, 0, 7, 3, 1, 0, 3, 0, 0, 0, 0, 1, 0, 3, 0, 0, 0, 0, 0, 1, 1, 0, 0, 0, 0, 0, 37, 0, 0, 0, 0, 0, 4, 0, 2, 0, 1, 0, 2, 0, 0, 0, 0, 0, 0, 0, 0, 0, 2, 0, 0, 0, 0, 3, 0, 0, 0, 0, 0, 0, 1, 0, 0, 0, 0, 6, 1, 0, 4, 3, 1, 0, 0, 0, 0, 0, 0, 0, 0, 2, 0, 0, 0, 0, 2, 0, 2, 0, 0, 0, 0, 1, 4, 0, 0, 0, 2, 1, 1, 0, 0, 5, 0, 0, 0, 0, 2, 0, 0, 0, 0, 0, 4, 1, 6, 0, 0, 0, 1, 0, 0, 0, 0, 0, 0, 1, 0, 0, 0, 0, 0, 9, 2, 0, 0, 0, 0, 0, 0, 0, 0, 0, 0, 0, 0, 0, 0, 0, 0, 9, 0, 0, 0, 0, 0, 0, 0, 3, 0, 0, 0, 0, 0, 0, 2, 1, 0, 7, 25, 0, 0, 2, 8, 0, 0, 3, 14, 1, 0, 0, 0, 7, 4, 0, 0, 0, 1, 1, 0, 0, 0, 0, 0, 0, 0, 0, 0, 0, 1, 0, 1, 1, 0, 1, 1, 5, 3, 3, 0, 6, 2, 0, 0, 0, 0, 0, 0, 1, 0, 0, 7, 0, 0, 0, 15, 2, 22, 0, 0, 1, 0, 0, 0, 0, 5, 0, 0, 0, 1, 0, 1, 0, 0, 0, 0, 1, 4, 0, 10, 0, 0, 0, 2, 0, 2, 0, 0, 5, 1, 3, 0, 0, 1, 1, 0, 0, 1, 0, 0, 0, 0, 0, 0, 8, 0, 0, 5, 0, 0, 0, 0, 6, 0, 18, 1, 1, 1, 8, 6, 0, 0, 1, 0, 0, 0, 0, 10, 1, 1, 0, 0, 0, 0, 0, 0, 0, 0, 0, 0, 43, 0, 0, 0, 0, 0, 0, 0, 0, 2, 0, 2, 3, 0, 0, 0, 0, 0, 0, 0, 0, 20, 3, 13, 0, 2, 0, 0, 0, 86, 0, 0, 0, 0, 0, 0, 0, 0, 0, 2, 0, 3, 3, 0, 0, 2, 0, 0, 1, 0, 0, 0, 2, 0, 0, 0, 0, 1, 0, 1, 2, 0, 2, 0, 0, 0, 4, 6, 4, 0, 0, 0, 0, 0, 1, 0, 0, 0, 1, 91, 1, 2, 0, 0, 2, 0, 0, 13, 0, 0, 0, 0, 23, 0, 0, 0, 0, 0, 0, 0, 0, 0, 0, 0, 0, 0, 0, 6, 0, 0, 0, 0, 0, 0, 2, 0, 0, 5, 0, 0, 0, 0, 0, 0, 0, 0, 0, 1, 0, 1, 0, 0, 1, 0, 0, 0, 2, 0, 7, 0, 0, 2, 15, 0, 2, 0, 0, 12, 23, 3, 0, 3, 0, 0, 1, 0, 0, 0, 3, 5, 0, 0, 0, 8, 0, 0, 6, 0, 51, 0, 8, 0, 7, 0, 0, 0, 2, 0, 0, 0, 0, 79, 0, 1, 0, 0, 0, 0, 0, 7, 0, 0, 0, 0, 0, 0, 0, 2, 0, 0, 0, 0, 0, 0, 0, 0, 0, 0, 0, 0, 0, 0, 1, 0, 0, 0, 0, 9, 0, 1, 0, 0, 2, 0, 0, 0, 29, 0, 0, 0, 0, 0, 1, 0, 42, 0, 16, 0, 0, 0, 0, 0, 0, 0, 0, 51, 0, 0, 0, 0, 15, 1, 1, 0, 0, 0, 0, 0, 0, 0, 0, 0, 1, 18, 0, 0, 0, 0, 1, 0, 0, 1, 0, 0, 0, 0, 1, 1, 0, 0, 0, 0, 0, 0, 2, 0, 3, 0, 6, 0, 0, 0, 0, 0, 3, 0, 1, 0, 1, 4, 0, 16, 0, 0, 0, 0, 0, 0, 0, 0, 0, 18, 4, 0, 9, 0, 0, 0, 0, 0, 0, 0, 0, 0, 0, 3, 0, 3, 2, 0, 0, 3, 0, 0, 0, 0, 0, 0, 0, 5, 0, 0, 1, 0, 1, 1, 19, 0, 0, 0, 13, 0, 0, 0, 0, 0, 0, 2, 0, 0, 0, 0, 0, 0, 0, 16, 5, 0, 4, 0, 2, 11, 0, 0, 1, 2, 0, 0, 1, 1, 4, 0, 0, 0, 4, 3, 0, 0, 0, 1, 0, 0, 0, 2, 0, 0, 22, 0, 0, 0, 1, 9, 0, 0, 2, 0, 0, 1, 1, 1, 0, 0, 0, 0, 0, 0, 0, 0, 0, 0, 0, 0, 0, 0, 0, 1, 0, 0, 0, 0, 4, 0, 0, 0, 3, 0, 0, 0, 45, 6, 0, 12, 3, 0, 0, 17, 0, 0, 0, 1, 0, 11, 1, 0, 0, 0, 1, 1, 0, 0, 0, 0, 0, 2, 0, 0, 0, 0, 0, 1, 2, 0, 5, 0, 1, 0, 6, 0, 0, 2, 0, 0, 0, 0, 2, 0, 1, 0, 1, 0, 0, 0, 0, 0, 0, 0, 0, 1, 0, 1, 0, 0, 0, 0, 0, 0, 1, 1, 35, 0, 0, 0, 0, 1, 0, 0, 0, 0, 0, 0, 0, 0, 0, 0, 1, 0, 0, 0, 0, 0, 0, 7, 11, 0, 1, 0, 0, 1, 0, 0, 0, 0, 0, 0, 0, 0, 0, 0, 0, 45, 4, 0, 0, 0, 0, 0, 1, 0, 1, 0, 0, 0, 2, 0, 2, 3, 0, 0, 0, 0, 1, 0, 1, 0, 0, 5, 0, 0, 0, 37, 0, 0, 0, 3, 0, 0, 0, 9, 0, 0, 0, 0, 1, 0, 0, 0, 0, 0, 1, 33, 3, 4, 0, 0, 1, 65, 3, 0, 1, 0, 2, 4, 0, 1, 0, 0, 0, 0, 0, 0, 1, 0, 1, 0, 4, 0, 0, 0, 0, 3, 0, 1, 0, 0, 0, 0, 0, 0, 0, 0, 0, 0, 0, 0, 1, 0, 0, 0, 0, 0, 0, 1, 1, 0, 7, 5, 0, 0, 0, 2, 0, 3, 0, 0, 3, 0, 0, 0, 1, 25, 1, 0, 0, 0, 0, 0, 2, 0, 0, 0, 1, 0, 9, 0, 0, 0, 0, 0, 0, 0, 14, 2, 0, 22, 0, 0, 0, 0, 0, 0, 2, 0, 0, 2, 6, 4, 0, 1, 0, 0, 0, 0, 0, 0, 0, 15, 0, 0, 0, 0, 0, 0, 0, 0, 4, 1, 7, 4, 0, 0, 1, 3, 3, 3, 4, 2, 7, 4, 0, 3, 2, 10, 0, 3, 0, 0, 45, 5, 0, 0, 0, 7, 10, 1, 0, 0, 0, 0, 0, 0, 0, 0, 0, 0, 0, 0, 3, 3, 0, 0, 0, 3, 0, 0, 0, 0, 0, 1, 0, 0, 2, 0, 3, 1, 0, 0, 0, 0, 0, 0, 7, 3, 16, 0, 0, 5, 0, 1, 0, 2, 0, 0, 0, 0, 0, 0, 0, 5, 4, 22, 10, 0, 0, 0, 1, 0, 2, 0, 0, 0, 0, 10, 14, 8, 0, 4, 0, 67, 0, 0, 0, 4, 0, 0, 0, 1, 0, 0, 0, 0, 0, 0, 0, 1, 0, 2, 6, 0, 0, 2, 0, 0, 0, 0, 0, 0, 5, 0, 0, 0, 0, 0, 1, 0, 2, 0, 5, 0, 0, 0, 3, 38, 9, 22, 1, 0, 0, 0, 0, 0, 1, 0, 0, 0, 0, 1, 0, 1, 0, 0, 0, 11, 0, 0, 4, 7, 1, 0, 0, 0, 0, 0, 0, 0, 0, 0, 0, 0, 0, 0, 0, 4, 0, 0, 0, 0, 0, 0, 0, 0, 1, 0, 11, 2, 0, 0, 0, 0, 2, 0, 0, 0, 0, 3, 0, 10, 4, 3, 0, 0, 0, 2, 0, 0, 0, 0, 22, 0, 0, 0, 0, 0, 0, 0, 2, 0, 0, 0, 0, 0, 1, 2, 0, 0, 2, 0, 0, 8, 0, 0, 0, 1, 0, 0, 0, 0, 0, 0, 0, 0, 25, 0, 0, 7, 0, 0, 1, 0, 2, 1, 0, 0, 0, 0, 1, 0, 0, 0, 0, 0, 3, 0, 0, 0, 3, 0, 0, 0, 0, 0, 0, 0, 0, 0, 0, 0, 0, 0, 0, 0, 0, 4, 0, 0, 0, 0, 0, 3, 0, 0, 0, 0, 2, 0, 0, 0, 2, 0, 0, 1, 1, 1, 21, 0, 0, 0, 0, 0, 0, 0, 3, 0, 0, 0, 0, 0, 0, 0, 6, 1, 0, 0, 2, 0, 0, 0, 0, 0, 1, 2, 7, 3, 0, 0, 5, 0, 2, 3, 0, 0, 0, 0, 0, 0, 0, 0, 0, 0, 3, 0, 0, 0, 0, 29, 0, 0, 0, 0, 0, 0, 0, 0, 15, 0, 1, 0, 0, 3, 0, 1, 21, 0, 1, 0, 0, 0, 6, 0, 0, 0, 0, 0, 0, 0, 0, 0, 0, 0, 1, 1, 0, 0, 6, 2, 0, 0, 0, 0, 0, 8, 0, 8, 0, 0, 14, 4, 1, 0, 0, 0, 0, 0, 0, 0, 0, 0, 0, 0, 2, 0, 0, 0, 0, 0, 0, 0, 0, 59, 0, 0, 0, 0, 0, 21, 6, 0, 11, 0, 0, 0, 0, 0, 1, 0, 0, 0, 24, 0, 0, 2, 0, 0, 0, 0, 0, 0, 1, 0, 0, 0, 5, 0, 1, 0, 2, 0, 0, 0, 5, 0, 0, 0, 0, 0, 0, 2, 0, 3, 0, 0, 0, 0, 0, 1, 0, 60, 0, 0, 0, 1, 3, 0, 1, 0, 3, 0, 2, 0, 0, 0, 0, 0, 0, 0, 0, 14, 0, 0, 0, 0, 0, 30, 0, 0, 0, 1, 10, 13, 35, 0, 0, 0, 0, 0, 0, 10, 0, 0, 0, 0, 0, 28, 0, 0, 0, 1, 4, 0, 0, 0, 1, 0, 0, 0, 8, 0, 0, 4, 0, 1, 0, 0, 1, 0, 0, 0, 0, 0, 0, 6, 0, 1, 0, 2, 2, 0, 0, 82, 0, 0, 0, 0, 1, 1, 3, 0, 0, 0, 0, 0, 2, 0, 0, 3, 0, 23, 0, 0, 0, 2, 19, 0, 0, 0, 1, 1, 0, 0, 0, 0, 0, 0, 34, 16, 0, 0, 0, 2, 0, 2, 3, 0, 0, 0, 0, 0, 0, 33, 0, 4, 0, 0, 0, 0, 0, 0, 0, 0, 0, 57, 4, 66, 0, 0, 0, 3, 21, 0, 0, 2, 0, 0, 2, 0, 0, 0, 0, 0, 0, 0, 0, 5, 1, 0, 0, 0, 0, 8, 1, 1, 17, 3, 0, 2, 1, 0, 0, 0, 1, 0, 2, 0, 6, 1, 0, 0, 0, 0, 35, 9, 0, 0, 0, 0, 0, 0, 187, 0, 6, 0, 13, 0, 2, 0, 7, 0, 6, 0, 1, 0, 0, 0, 0, 0, 0, 0, 1, 5, 1, 0, 0, 1, 1, 1, 0, 0, 0, 3, 0, 0, 4, 0, 0, 22, 1, 0, 0, 7, 0, 0, 1, 0, 0, 0, 0, 0, 1, 0, 0, 0, 0, 2, 0, 6, 1, 8, 0, 0, 1, 1, 0, 0, 1, 2, 0, 0, 3, 5, 0, 1, 0, 0, 0, 0, 0, 2, 2, 1, 0, 10, 19, 0, 1, 0, 10, 38, 1, 9, 0, 0, 0, 0, 0, 0, 0, 0, 0, 0, 13, 2, 0, 2, 0, 0, 0, 0, 1, 5, 0, 0, 0, 0, 0, 0, 0, 3, 0, 57, 67, 1, 0, 3, 0, 0, 1, 0, 0, 1, 26, 3, 8, 0, 0, 1, 0, 0, 2, 0, 0, 4, 2, 0, 0, 0, 0, 0, 0, 12, 0, 0, 0, 0, 0, 0, 2, 0, 0, 3, 1, 0, 3, 0, 0, 1, 0, 0, 0, 0, 0, 61, 0, 0, 5, 0, 32, 0, 0, 1, 0, 0, 0, 1, 0, 1, 0, 3, 0, 0, 2, 0, 1, 0, 0, 1, 8, 0, 0, 0, 0, 0, 1, 0, 16, 1, 5, 1, 0, 0, 0, 0, 0, 2, 0, 4, 0, 0, 0, 0, 1, 0, 0, 0, 2, 0, 0, 0, 0, 5, 0, 1, 5, 0, 3, 0, 0, 0, 5, 0, 0, 0, 5, 0, 28, 17, 0, 0, 0, 0, 0, 0, 0, 0, 0, 0, 2, 0, 0, 0, 3, 0, 0, 0, 0, 5, 0, 0, 1, 1, 0, 0, 0, 1, 0, 17, 0, 0, 0, 5, 2, 0, 0, 0, 0, 0, 0, 0, 0, 0, 1, 0, 0, 0, 0, 0, 4, 0, 1, 1, 4, 0, 0, 0, 0, 0, 0, 0, 0, 0, 0, 0, 0, 0, 0, 2, 0, 0, 0, 0, 8, 1, 0, 0, 0, 0, 0, 0, 4, 0, 0, 0, 0, 2, 0, 24, 0, 0, 1, 0, 0, 0, 0, 0, 0, 0, 10, 0, 41, 0, 0, 0, 0, 0, 0, 0, 0, 0, 0, 13, 0, 16, 0, 0, 0, 0, 0, 0, 0, 4, 0, 1, 1, 3, 7, 0, 1, 0, 0, 0, 0, 0, 0, 9, 0, 0, 0, 0, 0, 0, 3, 0, 3, 0, 0, 1, 4, 3, 0, 0, 0, 7, 0, 0, 35, 0, 0, 3, 1, 4, 1, 0, 9, 1, 2, 0, 0, 0, 3, 0, 0, 0, 24, 0, 1, 0, 0, 0, 0, 1, 0, 1, 4, 0, 0, 0, 32, 0, 1, 10, 0, 0, 0, 0, 0, 6, 0, 0, 0, 0, 0, 0, 0, 28, 1, 2, 0, 0, 0, 0, 0, 0, 5, 0, 0, 0, 0, 0, 0, 0, 6, 0, 0, 0, 0, 0, 0, 0, 0, 0, 2, 2, 6, 0, 0, 0, 3, 0, 0, 0, 0, 2, 0, 1, 0, 0, 0, 0, 0, 1, 0, 0, 0, 1, 3, 6, 0, 0, 1, 0, 0, 0, 0, 3, 1, 0, 0, 0, 5, 0, 0, 0, 1, 0, 0, 0, 0, 0, 0, 0, 0, 6, 0, 0, 0, 0, 0, 0, 0, 0, 0, 1, 1, 0, 0, 5, 251, 2, 45, 0, 0, 0, 9, 0, 0, 1, 0, 0, 0, 0, 0, 2, 0, 0, 11, 1, 47, 3, 0, 0, 8, 1, 6, 0, 0, 0, 0, 158, 0, 0, 0, 0, 0, 1, 0, 0, 1, 0, 0, 0, 0, 1, 1, 0, 0, 0, 0, 3, 0, 0, 0, 0, 1, 0, 3, 0, 0, 5, 0, 0, 3, 6, 0, 0, 1, 6, 0, 0, 0, 4, 1, 2, 0, 0, 0, 0, 2, 0, 0, 0, 0, 0, 0, 0, 1, 0, 7, 2, 1, 0, 2, 0, 0, 0, 1, 1, 0, 0, 0, 1, 0, 1, 3, 0, 0, 0, 1, 0, 0, 1, 0, 2, 1, 0, 0, 0, 0, 0, 0, 6, 0, 0, 1, 0, 1, 0, 1, 0, 3, 4, 0, 0, 38, 0, 0, 0, 0, 0, 35, 0, 0, 4, 0, 0, 3, 0, 1, 0, 5, 1, 0, 28, 5, 0, 0, 0, 0, 1, 0, 0, 0, 0, 0, 1, 0, 0, 0, 0, 0, 0, 0, 4, 2, 0, 0, 0, 0, 1, 0, 0, 0, 3, 0, 0, 1, 0, 0, 0, 0, 1, 0, 2, 15, 0, 1, 0, 0, 0, 0, 0, 12, 1, 1, 5, 0, 3, 0, 0, 0, 0, 2, 0, 0, 0, 0, 3, 0, 0, 7, 3, 0, 15, 0, 0, 0, 0, 0, 0, 0, 0, 3, 0, 0, 0, 0, 3, 6, 3, 0, 15, 0, 0, 0, 0, 0, 0, 0, 0, 47, 28, 0, 0, 0, 0, 0, 0, 0, 1, 0, 4, 13, 0, 0, 0, 1, 0, 0, 0, 0, 0, 0, 1, 0, 0, 0, 1, 12, 0, 0, 8, 0, 1, 0, 0, 108, 0, 0, 10, 0, 0, 0, 0, 0, 17, 0, 0, 0, 0, 2, 0, 0, 0, 0, 0, 0, 1, 0, 0, 0, 0, 0, 0, 0, 0, 4, 0, 0, 0, 0, 7, 0, 0, 0, 0, 0, 0, 5, 0, 3, 0, 1, 0, 0, 0, 0, 0, 0, 0, 0, 1, 0, 0, 0, 0, 0, 0, 3, 0, 0, 0, 1, 0, 116, 0, 0, 0, 0, 0, 0, 0, 0, 0, 0, 25, 0, 0, 0, 0, 16, 0, 0, 1, 0, 0, 0, 0, 4, 0, 0, 2, 0, 2, 0, 0, 0, 0, 0, 0, 0, 0, 0, 0, 0, 0, 4, 0, 0, 0, 0, 13, 0, 0, 2, 3, 4, 0, 0, 0, 0, 0, 0, 0, 0, 0, 0, 0, 0, 0, 10, 0, 33, 0, 1, 0, 0, 0, 0, 0, 0, 2, 0, 0, 0, 0, 0, 0, 0, 0, 0, 0, 0, 0, 17, 0, 0, 1, 5, 0, 67, 0, 2, 0, 1, 0, 2, 0, 18, 0, 1, 0, 3, 0, 0, 0, 2, 0, 0, 0, 0, 0, 0, 0, 8, 3, 0, 0, 0, 3, 0, 0, 3, 1, 5, 0, 103, 21, 0, 0, 1, 12, 1, 0, 0, 0, 49, 7, 0, 0, 6, 0, 0, 0, 0, 0, 0, 0, 2, 0, 0, 0, 2, 0, 0, 0, 0, 0, 0, 0, 0, 0, 0, 0, 0, 0, 0, 0, 0, 0, 0, 0, 0, 0, 0, 0, 0, 0, 0, 0, 5, 0, 0, 0, 0, 0, 2, 0, 1, 0, 2, 0, 0, 1, 0, 0, 0, 0, 1, 0, 0, 0, 14, 180, 0, 0, 1, 0, 0, 0, 2, 1, 0, 0, 0, 0, 0, 0, 0, 0, 2, 0, 0, 0, 6, 0, 0, 1, 0, 0, 0, 3, 0, 1, 0, 0, 0, 0, 0, 0, 0, 0, 0, 0, 0, 0, 0, 1, 19, 11, 4, 0, 3, 0, 0, 0, 1, 0, 204, 0, 0, 0, 0, 0, 1, 0, 0, 5, 3, 0, 0, 0, 0, 0, 8, 0, 1, 4, 0, 0, 0, 3, 0, 0, 0, 0, 3, 0, 0, 0, 0, 0, 0, 0, 0, 0, 0, 2, 0, 0, 4, 0, 0, 0, 8, 0, 0, 0, 0, 0, 0, 1, 0, 0, 0, 0, 0, 4, 0, 0, 2, 1, 1, 1, 0, 0, 0, 0, 0, 5, 0, 0, 3, 0, 0, 0, 6, 0, 0, 0, 0, 44, 0, 0, 5, 0, 0, 0, 0, 0, 0, 0, 0, 0, 0, 0, 8, 0, 1, 0, 7, 0, 0, 0, 0, 1, 23, 3, 0, 0, 0, 0, 0, 0, 0, 0, 0, 0, 1, 5, 0, 0, 2, 0, 1, 1, 0, 0, 0, 0, 3, 0, 0, 0, 0, 0, 0, 0, 3, 0, 4, 2, 9, 1, 0, 8, 2, 0, 0, 0, 0, 1, 0, 0, 1, 0, 0, 0, 0, 0, 2, 2, 0, 0, 0, 18, 0, 2, 0, 0, 0, 0, 0, 0, 0, 0, 0, 0, 0, 1, 0, 0, 0, 0, 0, 2, 0, 1, 0, 0, 1, 1, 16, 0, 0, 0, 0, 0, 11, 5, 0, 5, 0, 0, 0, 0, 4, 0, 9, 2, 0, 0, 0, 0, 0, 0, 2, 0, 0, 1, 0, 0, 0, 0, 0, 0, 0, 0, 0, 25, 7, 16, 0, 0, 4, 0, 1, 5, 2, 0, 0, 0, 0, 0, 0, 0, 0, 0, 0, 0, 0, 0, 0, 0, 0, 15, 1, 0, 0, 0, 2, 0, 0, 6, 1, 0, 0, 0, 13, 0, 0, 0, 0, 0, 0, 0, 3, 0, 3, 0, 0, 0, 0, 1, 0, 10, 2, 1, 0, 2, 0, 0, 0, 0, 0, 0, 0, 0, 0, 0, 0, 7, 5, 0, 1, 1, 0, 0, 0, 0, 0, 4, 0, 0, 0, 0, 0, 1, 0, 0, 0, 0, 3, 0, 0, 0, 3, 5, 0, 0, 0, 0, 0, 0, 0, 4, 1, 0, 0, 0, 1, 0, 6, 0, 0, 0, 0, 1, 0, 0, 2, 0, 0, 0, 0, 103, 0, 0, 0, 0, 14, 0, 0, 1, 5, 0, 52, 0, 0, 0, 0, 0, 2, 0, 0, 0, 0, 0, 0, 3, 2, 0, 0, 1, 0, 0, 0, 0, 1, 3, 0, 0, 12, 20, 0, 0, 0, 0, 0, 0, 0, 0, 0, 0, 0, 1, 0, 0, 0, 2, 0, 0, 2, 0, 0, 0, 16, 7, 0, 0, 0, 0, 0, 0, 0, 0, 0, 76, 0, 0, 0, 0, 15, 2, 0, 4, 0, 7, 0, 0, 0, 0, 0, 1, 0, 0, 0, 0, 20, 13, 4, 0, 0, 2, 0, 0, 0, 0, 0, 2, 0, 0, 7, 10, 0, 0, 0, 0, 1, 0, 0, 0, 6, 0, 0, 0, 0, 0, 1, 0, 0, 0, 0, 0, 0, 0, 4, 0, 5, 3, 0, 0, 0, 0, 0, 0, 1, 5, 1, 0, 0, 0, 1, 2, 0, 0, 0, 1, 0, 0, 0, 2, 0, 0, 10, 0, 0, 0, 0, 14, 14, 0, 1, 0, 0, 2, 0, 2, 0, 1, 0, 1, 0, 2, 0, 0, 0, 1, 2, 0, 0, 0, 0, 1, 2, 0, 4, 0, 0, 76, 0, 1, 31, 7, 0, 0, 0, 0, 0, 0, 0, 1, 0, 0, 0, 0, 0, 0, 0, 0, 0, 0, 0, 0, 0, 0, 0, 3, 0, 1, 0, 0, 0, 0, 0, 0, 0, 0, 0, 0, 0, 0, 0, 0, 2, 147, 0, 0, 0, 17, 3, 6, 40, 5, 0, 0, 0, 0, 0, 0, 0, 0, 0, 0, 1, 0, 0, 1, 2, 0, 0, 1, 0, 0, 0, 6, 0, 2, 0, 0, 0, 0, 2, 0, 0, 0, 0, 0, 0, 0, 0, 2, 2, 1, 0, 0, 17, 0, 0, 0, 194, 0, 2, 0, 2, 0, 0, 0, 0, 0, 0, 0, 0, 0, 4, 0, 0, 0, 0, 2, 1, 0, 0, 8, 1, 0, 0, 0, 0, 0, 0, 0, 0, 3, 1, 5, 0, 2, 0, 0, 6, 4, 0, 2, 2, 8, 0, 0, 0, 0, 0, 0, 0, 0, 0, 3, 0, 0, 0, 0, 0, 0, 0, 1, 0, 5, 0, 2, 0, 3, 0, 0, 0, 0, 5, 5, 0, 0, 0, 0, 176, 11, 0, 0, 4, 0, 0, 0, 2, 0, 0, 0, 0, 0, 0, 0, 1, 0, 0, 22, 0, 3, 0, 0, 0, 0, 0, 2, 0, 0, 0, 0, 0, 0, 0, 0, 0, 6, 0, 8, 0, 0, 1, 0, 0, 3, 0, 0, 0, 0, 2, 0, 0, 8, 0, 0, 0, 0, 0, 0, 0, 0, 0, 0, 0, 0, 3, 0, 0, 0, 0, 0, 0, 0, 0, 0, 0, 0, 0, 7, 0, 3, 0, 0, 0, 0, 0, 0, 0, 0, 0, 0, 0, 10, 0, 0, 2, 0, 0, 0, 0, 9, 0, 0, 0, 0, 0, 0, 2, 3, 0, 0, 6, 0, 0, 0, 2, 0, 0, 0, 0, 5, 0, 0, 32, 0, 0, 0, 0, 0, 0, 0, 7, 8, 43, 5, 35, 0, 5, 2, 0, 1, 0, 0, 0, 0, 0, 1, 4, 7, 18, 0, 0, 0, 0, 1, 0, 0, 0, 0, 0, 0, 0, 0, 0, 0, 0, 0, 0, 1, 0, 0, 0, 0, 0, 0, 0, 1, 0, 1, 0, 0, 0, 0, 0, 0, 0, 0, 0, 0, 0, 0, 0, 0, 0, 0, 1, 28, 5, 8, 0, 0, 0, 4, 0, 0, 0, 0, 0, 1, 0, 3, 0, 0, 0, 0, 0, 0, 0, 2, 1, 0, 0, 12, 0, 0, 0, 0, 0, 0, 0, 3, 2, 0, 0, 4, 1, 0, 2, 0, 1, 0, 0, 2, 0, 0, 0, 0, 0, 0, 10, 0, 0, 2, 0, 0, 0, 0, 1, 0, 0, 0, 91, 0, 0, 0, 0, 5, 0, 0, 6, 0, 0, 0, 0, 1, 1, 0, 0, 0, 0, 0, 1, 0, 0, 0, 0, 16, 0, 1, 0, 0, 0, 2, 30, 1, 0, 0, 1, 0, 0, 0, 0, 3, 3, 0, 1, 0, 0, 0, 0, 0, 0, 0, 8, 1, 54, 0, 0, 0, 0, 0, 0, 45, 0, 3, 0, 0, 0, 0, 0, 1, 0, 0, 0, 15, 0, 0, 2, 0, 2, 0, 0, 0, 7, 0, 6, 0, 0, 0, 0, 0, 0, 1, 0, 0, 0, 0, 0, 1, 0, 0, 0, 2, 0, 0, 0, 0, 0, 22, 0, 0, 0, 0, 1, 0, 0, 0, 11, 0, 3, 0, 0, 6, 2, 0, 0, 0, 0, 0, 0, 30, 7, 0, 0, 1, 0, 1, 0, 0, 1, 16, 0, 0, 0, 0, 0, 0, 0, 0, 2, 1, 0, 0, 0, 0, 0, 4, 2, 40, 3, 2, 3, 1, 1, 0, 0, 2, 0, 3, 0, 0, 0, 0, 2, 0, 0, 2, 0, 0, 0, 0, 2, 1, 0, 0, 0, 1, 2, 0, 0, 0, 0, 0, 0, 6, 0, 0, 0, 1, 0])"
      ]
     },
     "execution_count": 39,
     "metadata": {},
     "output_type": "execute_result"
    }
   ],
   "source": [
    "dict(G.degree()).values()"
   ]
  },
  {
   "cell_type": "code",
   "execution_count": 49,
   "metadata": {},
   "outputs": [
    {
     "data": {
      "image/png": "[encoded data removed]",
      "text/plain": [
       "<Figure size 432x288 with 1 Axes>"
      ]
     },
     "metadata": {},
     "output_type": "display_data"
    }
   ],
   "source": [
    "plot_deg_hist(get_main_subgraph(G))"
   ]
  },
  {
   "cell_type": "code",
   "execution_count": 56,
   "metadata": {},
   "outputs": [
    {
     "data": {
      "image/png": "[encoded data removed]",
      "text/plain": [
       "<Figure size 432x288 with 1 Axes>"
      ]
     },
     "metadata": {},
     "output_type": "display_data"
    }
   ],
   "source": [
    "# Compute the degree centrality of G: deg_cent      \n",
    "deg = nx.degree(G)    \n",
    "deg_cen = nx.degree_centrality(G)\n",
    "bet_cen = nx.betweenness_centrality(G)\n",
    "\n",
    "eig_cen = nx.eigenvector_centrality(G)\n",
    "\n",
    "plt.scatter(x = list(bet_cen.values()), y = list(degrees.values()));"
   ]
  },
  {
   "cell_type": "code",
   "execution_count": 58,
   "metadata": {},
   "outputs": [
    {
     "ename": "NameError",
     "evalue": "name 'degrees' is not defined",
     "output_type": "error",
     "traceback": [
      "\u001b[0;31m---------------------------------------------------------------------------\u001b[0m",
      "\u001b[0;31mNameError\u001b[0m                                 Traceback (most recent call last)",
      "\u001b[0;32m<ipython-input-58-8840aca1aa5f>\u001b[0m in \u001b[0;36m<module>\u001b[0;34m()\u001b[0m\n\u001b[0;32m----> 1\u001b[0;31m \u001b[0mplt\u001b[0m\u001b[0;34m.\u001b[0m\u001b[0mscatter\u001b[0m\u001b[0;34m(\u001b[0m\u001b[0mx\u001b[0m \u001b[0;34m=\u001b[0m \u001b[0mlist\u001b[0m\u001b[0;34m(\u001b[0m\u001b[0mbet_cen\u001b[0m\u001b[0;34m.\u001b[0m\u001b[0mvalues\u001b[0m\u001b[0;34m(\u001b[0m\u001b[0;34m)\u001b[0m\u001b[0;34m)\u001b[0m\u001b[0;34m,\u001b[0m \u001b[0my\u001b[0m \u001b[0;34m=\u001b[0m \u001b[0mlist\u001b[0m\u001b[0;34m(\u001b[0m\u001b[0mdegrees\u001b[0m\u001b[0;34m.\u001b[0m\u001b[0mvalues\u001b[0m\u001b[0;34m(\u001b[0m\u001b[0;34m)\u001b[0m\u001b[0;34m)\u001b[0m\u001b[0;34m)\u001b[0m\u001b[0;34m;\u001b[0m\u001b[0;34m\u001b[0m\u001b[0m\n\u001b[0m",
      "\u001b[0;31mNameError\u001b[0m: name 'degrees' is not defined"
     ]
    }
   ],
   "source": [
    "plt.scatter(x = list(bet_cen.values()), y = list(degrees.values()));"
   ]
  },
  {
   "cell_type": "code",
   "execution_count": null,
   "metadata": {},
   "outputs": [],
   "source": []
  }
 ],
 "metadata": {
  "kernelspec": {
   "display_name": "Python 3",
   "language": "python",
   "name": "python3"
  },
  "language_info": {
   "codemirror_mode": {
    "name": "ipython",
    "version": 3
   },
   "file_extension": ".py",
   "mimetype": "text/x-python",
   "name": "python",
   "nbconvert_exporter": "python",
   "pygments_lexer": "ipython3",
   "version": "3.7.0"
  }
 },
 "nbformat": 4,
 "nbformat_minor": 2
}
