{
 "cells": [
  {
   "cell_type": "code",
   "execution_count": 1,
   "metadata": {
    "scrolled": false
   },
   "outputs": [],
   "source": [
    "from IPython.display import HTML\n",
    "\n",
    "HTML('''<script>\n",
    "code_show=true; \n",
    "function code_toggle() {\n",
    " if (code_show){\n",
    " $('div.input').hide();\n",
    " } else {\n",
    " $('div.input').show();\n",
    " }\n",
    " code_show = !code_show\n",
    "} \n",
    "$( document ).ready(code_toggle);\n",
    "</script>\n",
    "<form action=\"javascript:code_toggle()\"><input type=\"submit\" value=\"Click here to toggle on/off the raw code.\"></form>''')"
   ]
  },
  {
   "cell_type": "code",
   "execution_count": 2,
   "metadata": {
    "code_folding": []
   },
   "outputs": [],
   "source": [
    "# IMPORT LIBRARIES\n",
    "\n",
    "import collections\n",
    "from datetime import datetime\n",
    "import ipywidgets as widgets\n",
    "from ipywidgets import HBox, Label\n",
    "from ipywidgets import Layout, Button, Box, VBox\n",
    "import itertools\n",
    "import json\n",
    "import matplotlib.pyplot as plt\n",
    "from matplotlib.ticker import ScalarFormatter\n",
    "import networkx as nx\n",
    "import numpy as np \n",
    "import os\n",
    "import pandas as pd \n",
    "from pandas.io.json import json_normalize\n",
    "from random import choice\n",
    "import random\n",
    "import requests\n",
    "import seaborn as sns\n",
    "import warnings\n",
    "\n",
    "warnings.filterwarnings('ignore')\n",
    "\n",
    "lightning_dir = \"~/lightning/cli/\"\n",
    "filename='demo_April_17'\n",
    "save_dir = \"> /Users/dariuscognac/Documents/GitHub/Lightning-Network-Topological-Analysis/\""
   ]
  },
  {
   "cell_type": "code",
   "execution_count": 3,
   "metadata": {
    "code_folding": []
   },
   "outputs": [],
   "source": [
    "# FUNCTIONS\n",
    "\n",
    "\n",
    "# c-lightning FUNCTIONS\n",
    "\n",
    "# GET DATA\n",
    "get_data_button = widgets.Button(description='Get Data')\n",
    "def get_data(b):\n",
    "    \n",
    "    global nodes_table\n",
    "    global channels_table\n",
    "    global my_node_id\n",
    "    \n",
    "    listnodes = lightning_dir + \"lightning-cli listnodes\" + save_dir + filename + \"list_of_nodes.json\"\n",
    "    listchannels = lightning_dir + \"lightning-cli listchannels\" + save_dir + filename + \"list_of_channels.json\"\n",
    "    getinfo = lightning_dir + \"lightning-cli getinfo\" + save_dir + filename + \"info.json\"\n",
    "\n",
    "# UNCOMMENT TO GET DATA FROM C-LIGHTNING\n",
    "#     os.system(listnodes);\n",
    "#     os.system(listchannels);\n",
    "#     os.system(getinfo);\n",
    "\n",
    "    # LOAD AND FORMAT DATA\n",
    "    nodes_temp = pd.read_json(filename + 'list_of_nodes.json')\n",
    "    nodes_table = json_normalize(nodes_temp['nodes'])\n",
    "    channels_temp = pd.read_json(filename + 'list_of_channels.json')\n",
    "    channels_table = json_normalize(channels_temp['channels'])\n",
    "    with open(filename + 'info.json') as json_data:\n",
    "        info = json.load(json_data)\n",
    "    my_node_id = info['id']\n",
    "    \n",
    "    # Get main graph\n",
    "    global G\n",
    "    \n",
    "    G = nx.Graph()\n",
    "    G.add_nodes_from(nodes_table['nodeid'])\n",
    "    edges_list = [(channels_table['source'][i], channels_table['destination'][i]) for i in range(len(channels_table))]\n",
    "    G.add_edges_from(edges_list)\n",
    "    G = get_main_subgraph(G)\n",
    "    \n",
    "    print('Number of nodes = ' + str(len(G.nodes())))\n",
    "    print('Number of edges (payment channels) = ' + str(len(G.edges())))\n",
    "    print('node ID: ' + my_node_id)\n",
    "    \n",
    "    \n",
    "# CONNECT TO SELECTED NODES\n",
    "def connect_to_new_neighbors(new_neighbors, channel_capacity_sats):\n",
    "    node_alias=[]\n",
    "    num_channels=[]\n",
    "    ip_address=[]\n",
    "    \n",
    "    for i in range(len(new_neighbors)):\n",
    "        nd = nodes_table[nodes_table['nodeid']==new_neighbors[i]]\n",
    "        node_alias.append(str(list(nd.alias)[0]))\n",
    "        num_channels.append(len(list(G.neighbors(new_neighbors[i]))))\n",
    "        ip_address.append(list(nd['addresses'])[0][0]['address'])\n",
    "\n",
    "        print(\"Setting up payment channel with \" + node_alias[i] + \"\\n\");\n",
    "\n",
    "        fund_channel = lightning_dir + \"lightning-cli fundchannel \" + new_neighbors[i] + \" \" + str(channel_capacity_sats)\n",
    "\n",
    "# UNCOMMENT TO SET UP PAYMENT CHANNELS USING C-LIGHTNING        \n",
    "#         os.system(connect);\n",
    "#         os.system(fund_channel);\n",
    "    \n",
    "\n",
    "\n",
    "# FUNCTIONS FOR PICKING NEIGHBORS\n",
    "\n",
    "def pick_highest_metric_nodes(G, centrality_measure, num_channels_to_make):    \n",
    "    centrality_dict = get_centrality_dict(G, centrality_measure)\n",
    "    centrality_list = [(id, centrality_dict.get(id)) for id in centrality_dict]\n",
    "    sorted_by_second = sorted(centrality_list, key=lambda tup: tup[1], reverse=True) # Sort by betweenness centrality\n",
    "\n",
    "    return [id for id, val in sorted_by_second[0: (num_channels_to_make)]]\n",
    "\n",
    "\n",
    "def pick_poor_connected_nodes(G, min_degree, num_channels_to_make):\n",
    "    degree = get_centrality_dict(G, 'degree')\n",
    "    between_centrality = get_centrality_dict(G, 'betweenness')\n",
    "    \n",
    "    min_degree_nodes = set()\n",
    "    for id, deg in degree.items():\n",
    "        if deg > min_degree:\n",
    "            min_degree_nodes.add(id)\n",
    "            \n",
    "    bet_centrality = [(id, between_centrality.get(id)) for id in min_degree_nodes]\n",
    "    sorted_by_second = sorted(bet_centrality, key=lambda tup: tup[1]) # Sort by betweenness centrality\n",
    "    \n",
    "    return [id for id, val in sorted_by_second[0: (num_channels_to_make)]]\n",
    "\n",
    "\n",
    "\n",
    "# PLOTTING FUNCTIONS\n",
    "\n",
    "def plot_ego_graph(fig, ax, G, new_node_id, centrality_measure, edge_radius):\n",
    "    # Create ego graphs\n",
    "    ego_graph = nx.ego_graph(G, new_node_id, radius=edge_radius)\n",
    "\n",
    "    pos=nx.spring_layout(ego_graph, seed=3)\n",
    "    centrality_dict = get_centrality_dict(G, centrality_measure)\n",
    "\n",
    "    # Draw larger extended network \n",
    "    graph1_color_vals = [centrality_dict.get(node) for node in ego_graph.nodes()]\n",
    "    nx.draw_networkx_nodes(ego_graph, ax=ax, pos=pos, cmap=plt.get_cmap('viridis'), \n",
    "            node_color=graph1_color_vals, node_size=100, alpha=0.6)\n",
    "    nx.draw_networkx_edges(ego_graph, ax=ax, pos=pos, alpha=0.3, edge_color='grey')\n",
    "\n",
    "    # Draw immediate network with stronger alpha\n",
    "    immediate_graph = nx.ego_graph(G, new_node_id, radius=1)\n",
    "    \n",
    "    graph2_color_vals = [centrality_dict.get(node) for node in immediate_graph.nodes()]\n",
    "    nx.draw(immediate_graph, ax=ax, pos=pos, cmap=plt.get_cmap('viridis'), with_labels = False, \n",
    "            node_color=graph2_color_vals, node_size=400, alpha=1, edge_color='k', width = 5)\n",
    "    \n",
    "    # Create 'X' label for new node\n",
    "    labels = {}    \n",
    "    for node in immediate_graph.nodes():\n",
    "        if node == new_node_id:\n",
    "            #set the node name as the key and the label as its value \n",
    "            labels[node] = 'X'\n",
    "    nx.draw_networkx_labels(immediate_graph, pos, labels, font_size=18, font_color='r', font_weight='bold', ax=ax)\n",
    "    \n",
    "    \n",
    "def get_centrality_dict(G, centrality_measure):\n",
    "    switcher = {\n",
    "        'degree': dict(nx.degree(G)) ,\n",
    "        'betweenness': nx.betweenness_centrality(G),\n",
    "        'closeness': nx.closeness_centrality(G),\n",
    "        'eccentricity': nx.eccentricity(G)\n",
    "    }\n",
    "    return switcher.get(centrality_measure)\n",
    "\n",
    "\n",
    "def plot_centrality_hist(fig, ax, G, centrality_measure, new_node_id):\n",
    "    centrality_dict = get_centrality_dict(G, centrality_measure)\n",
    "    \n",
    "    ax.hist(centrality_dict.values(),bins=25)\n",
    "    node_centrality_value = centrality_dict.get(new_node_id)\n",
    "    ax.axvline(x=node_centrality_value, color='r', linewidth=5)\n",
    "    \n",
    "    ax.set_yscale('log')    \n",
    "    ax.yaxis.set_major_formatter(ScalarFormatter())\n",
    "    ax.title.set_text(centrality_measure + ' = ' + '%.2g' % node_centrality_value)\n",
    "    \n",
    "    \n",
    "def plot_new_node_summary_fig(G, new_node_id, edge_radius):\n",
    "    sns.set(font_scale=2)\n",
    "    \n",
    "    fig = plt.figure(0, figsize=(16,16))\n",
    "    ax0 = plt.subplot2grid((3, 3), (0, 0), colspan=3, rowspan=2)\n",
    "    ax1 = plt.subplot2grid((3, 3), (2, 0))\n",
    "    ax2 = plt.subplot2grid((3, 3), (2, 1))\n",
    "    ax3 = plt.subplot2grid((3, 3), (2, 2))\n",
    "\n",
    "    plot_ego_graph(fig, ax0, G, new_node_id, centrality_measure='betweenness', edge_radius=edge_radius)\n",
    "    plot_centrality_hist(fig, ax1, G, centrality_measure='degree', new_node_id=new_node_id)\n",
    "    plot_centrality_hist(fig, ax2, G, centrality_measure='betweenness', new_node_id=new_node_id)\n",
    "    plot_centrality_hist(fig, ax3, G, centrality_measure='closeness', new_node_id=new_node_id)\n",
    "    \n",
    "    plt.show()\n",
    "    \n",
    "    \n",
    "    \n",
    "# NETWORKX FUNCTIONS\n",
    "\n",
    "# GET THE MAIN GRAPH\n",
    "def get_main_subgraph(G):\n",
    "    all_sub_G = list(nx.connected_component_subgraphs(G))\n",
    "    largest_sg = 0\n",
    "    \n",
    "    for i, sg in enumerate(all_sub_G):\n",
    "        if sg.number_of_nodes() > largest_sg:\n",
    "            largest_sg = sg.number_of_nodes()\n",
    "            main_G = sg\n",
    "            \n",
    "    return main_G\n",
    "    \n",
    "\n",
    "    # CREATE NEW GRAPH WITH NEW NODE AND EDGES\n",
    "def make_graph_with_new_neighbors(G, new_neighbors, new_node_id):\n",
    "    G_new = G.copy()\n",
    "    G_new.add_node(new_node_id)\n",
    "    new_edges = [(new_node_id,i) for i in new_neighbors]\n",
    "    G_new.add_edges_from(new_edges)\n",
    "    \n",
    "    return(G_new)\n",
    "\n",
    "\n",
    "# DISPLAY NEW NEIGHBOR INFO\n",
    "def display_new_neighbors(G, new_neighbors):\n",
    "    print(\"Here are some potential nodes to connect to:\\n\")\n",
    "    print_neighbors(new_neighbors)\n",
    "    \n",
    "    \n",
    "def print_neighbors(new_neighbors):\n",
    "    node_alias = []\n",
    "    num_channels = []\n",
    "    ip_address = []\n",
    "    \n",
    "    for i in range(len(new_neighbors)):\n",
    "        nd = nodes_table[nodes_table['nodeid']==new_neighbors[i]]\n",
    "        node_alias.append(str(list(nd.alias)[0]))\n",
    "        num_channels.append(len(list(G.neighbors(new_neighbors[i]))))\n",
    "        ip_address.append(list(nd['addresses'])[0][0]['address'])\n",
    "        \n",
    "        print(\"node ID: \" + new_neighbors[i])\n",
    "        print(\"node alias: \" + node_alias[i])\n",
    "        print(\"number of channels: \" + str(num_channels[i])+\"\\n\")\n"
   ]
  },
  {
   "cell_type": "code",
   "execution_count": 4,
   "metadata": {
    "code_folding": [],
    "scrolled": false
   },
   "outputs": [],
   "source": [
    "# GUI BUTTONS\n",
    "\n",
    "suggest_node_button = widgets.Button(description='Suggest nodes')\n",
    "def suggest_nodes(b):\n",
    "    global new_neighbors\n",
    "    new_neighbors = pick_highest_metric_nodes(\n",
    "        G, centrality_measure=centrality_buttons.value, num_channels_to_make=payment_channel_slider.value)\n",
    "    display_new_neighbors(G, new_neighbors)\n",
    "suggest_node_button.on_click(suggest_nodes)\n",
    "\n",
    "\n",
    "plot_suggested_nodes_button = widgets.Button(description='Plot suggested nodes')\n",
    "def plot_suggested_nodes(b):    \n",
    "    G_new = make_graph_with_new_neighbors(G, new_neighbors, my_node_id)\n",
    "    plot_new_node_summary_fig(G_new, new_node_id=my_node_id, edge_radius=2)\n",
    "plot_suggested_nodes_button.on_click(plot_suggested_nodes)\n",
    "\n",
    "\n",
    "connect_to_node_button = widgets.Button(description='Connect to nodes')\n",
    "def connect_nodes(b):\n",
    "    connect_to_new_neighbors(new_neighbors, channel_capacity_sats=channel_capacity_text.value)\n",
    "connect_to_node_button.on_click(connect_nodes)\n",
    "\n",
    "\n",
    "preset_casual_button = widgets.Button(description='casual')\n",
    "def preset_casual(b):\n",
    "    centrality_buttons.value = 'closeness'\n",
    "    payment_channel_slider.value = 2\n",
    "    channel_capacity_text.value = 20000\n",
    "preset_casual_button.on_click(preset_casual)\n",
    "\n",
    "\n",
    "preset_business_button = widgets.Button(description='business')\n",
    "def preset_business(b):\n",
    "    centrality_buttons.value = 'betweenness'\n",
    "    payment_channel_slider.value = 50\n",
    "    channel_capacity_text.value = 10000000\n",
    "preset_business_button.on_click(preset_business)\n",
    "\n",
    "\n",
    "centrality_buttons = widgets.ToggleButtons(options=['closeness', 'betweenness'], value = 'closeness')\n",
    "centrality_box = HBox([Label('Centrality to maximize:'), centrality_buttons])\n",
    "\n",
    "payment_channel_slider = widgets.IntSlider(value = 2)\n",
    "payment_channel_box = HBox([Label('Number of payment channels:'), payment_channel_slider])\n",
    "\n",
    "channel_capacity_text = widgets.IntText(value = 20000)\n",
    "channel_capacity_box = HBox([Label('Capacity per channel (sats):'), channel_capacity_text])"
   ]
  },
  {
   "cell_type": "markdown",
   "metadata": {},
   "source": [
    "# Lightning Payment Channel Optimizer\n",
    "\n",
    "### Get Lightning Network Data"
   ]
  },
  {
   "cell_type": "code",
   "execution_count": 5,
   "metadata": {
    "code_folding": []
   },
   "outputs": [
    {
     "data": {
      "application/vnd.jupyter.widget-view+json": {
       "model_id": "948f45e8afa241f6b3af1f13b07eeb8c",
       "version_major": 2,
       "version_minor": 0
      },
      "text/plain": [
       "Button(description='Get Data', style=ButtonStyle())"
      ]
     },
     "metadata": {},
     "output_type": "display_data"
    }
   ],
   "source": [
    "get_data_button.on_click(get_data)\n",
    "display(get_data_button)"
   ]
  },
  {
   "cell_type": "markdown",
   "metadata": {},
   "source": [
    "### Choose payment channel settings"
   ]
  },
  {
   "cell_type": "code",
   "execution_count": 6,
   "metadata": {},
   "outputs": [
    {
     "data": {
      "application/vnd.jupyter.widget-view+json": {
       "model_id": "4411c4f10a8247e7925e206f761dbbbf",
       "version_major": 2,
       "version_minor": 0
      },
      "text/plain": [
       "Button(description='casual', style=ButtonStyle())"
      ]
     },
     "metadata": {},
     "output_type": "display_data"
    },
    {
     "data": {
      "application/vnd.jupyter.widget-view+json": {
       "model_id": "81ee8b76010b4035af852608c1d8bf89",
       "version_major": 2,
       "version_minor": 0
      },
      "text/plain": [
       "Button(description='business', style=ButtonStyle())"
      ]
     },
     "metadata": {},
     "output_type": "display_data"
    },
    {
     "data": {
      "application/vnd.jupyter.widget-view+json": {
       "model_id": "7bdeabd947e3499f9ab2614f95251015",
       "version_major": 2,
       "version_minor": 0
      },
      "text/plain": [
       "HBox(children=(Label(value='Centrality to maximize:'), ToggleButtons(options=('closeness', 'betweenness'), val…"
      ]
     },
     "metadata": {},
     "output_type": "display_data"
    },
    {
     "data": {
      "application/vnd.jupyter.widget-view+json": {
       "model_id": "6f6c6c4b3cbe446c9f7065b5a66e91df",
       "version_major": 2,
       "version_minor": 0
      },
      "text/plain": [
       "HBox(children=(Label(value='Number of payment channels:'), IntSlider(value=2)))"
      ]
     },
     "metadata": {},
     "output_type": "display_data"
    },
    {
     "data": {
      "application/vnd.jupyter.widget-view+json": {
       "model_id": "3a7fe93b3cab43849b2a4bc0676973b6",
       "version_major": 2,
       "version_minor": 0
      },
      "text/plain": [
       "HBox(children=(Label(value='Capacity per channel (sats):'), IntText(value=20000)))"
      ]
     },
     "metadata": {},
     "output_type": "display_data"
    }
   ],
   "source": [
    "display(preset_casual_button, preset_business_button)\n",
    "display(centrality_box, payment_channel_box, channel_capacity_box)"
   ]
  },
  {
   "cell_type": "markdown",
   "metadata": {},
   "source": [
    "### Suggest nodes to form payment channels with"
   ]
  },
  {
   "cell_type": "code",
   "execution_count": 7,
   "metadata": {},
   "outputs": [
    {
     "data": {
      "application/vnd.jupyter.widget-view+json": {
       "model_id": "63be94814a1d490bb3b0801161b9d806",
       "version_major": 2,
       "version_minor": 0
      },
      "text/plain": [
       "Button(description='Suggest nodes', style=ButtonStyle())"
      ]
     },
     "metadata": {},
     "output_type": "display_data"
    }
   ],
   "source": [
    "display(suggest_node_button)"
   ]
  },
  {
   "cell_type": "markdown",
   "metadata": {},
   "source": [
    "### Visualize suggested payment channels"
   ]
  },
  {
   "cell_type": "code",
   "execution_count": 8,
   "metadata": {},
   "outputs": [
    {
     "data": {
      "application/vnd.jupyter.widget-view+json": {
       "model_id": "ffc59f67bdc54ef4a65914fbc52407fb",
       "version_major": 2,
       "version_minor": 0
      },
      "text/plain": [
       "Button(description='Plot suggested nodes', style=ButtonStyle())"
      ]
     },
     "metadata": {},
     "output_type": "display_data"
    }
   ],
   "source": [
    "display(plot_suggested_nodes_button)"
   ]
  },
  {
   "cell_type": "markdown",
   "metadata": {},
   "source": [
    "### Set up suggested payment channels"
   ]
  },
  {
   "cell_type": "code",
   "execution_count": 9,
   "metadata": {},
   "outputs": [
    {
     "data": {
      "application/vnd.jupyter.widget-view+json": {
       "model_id": "5de59adce0c94b2b8880d6841ef409d0",
       "version_major": 2,
       "version_minor": 0
      },
      "text/plain": [
       "Button(description='Connect to nodes', style=ButtonStyle())"
      ]
     },
     "metadata": {},
     "output_type": "display_data"
    }
   ],
   "source": [
    "display(connect_to_node_button)"
   ]
  }
 ],
 "metadata": {
  "kernelspec": {
   "display_name": "Python 3",
   "language": "python",
   "name": "python3"
  },
  "language_info": {
   "codemirror_mode": {
    "name": "ipython",
    "version": 3
   },
   "file_extension": ".py",
   "mimetype": "text/x-python",
   "name": "python",
   "nbconvert_exporter": "python",
   "pygments_lexer": "ipython3",
   "version": "3.7.0"
  }
 },
 "nbformat": 4,
 "nbformat_minor": 2
}
