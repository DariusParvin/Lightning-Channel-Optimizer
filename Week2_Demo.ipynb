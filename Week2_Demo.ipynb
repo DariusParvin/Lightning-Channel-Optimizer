{
 "cells": [
  {
   "cell_type": "code",
   "execution_count": null,
   "metadata": {},
   "outputs": [],
   "source": [
    "from IPython.display import HTML\n",
    "\n",
    "HTML('''<script>\n",
    "code_show=true; \n",
    "function code_toggle() {\n",
    " if (code_show){\n",
    " $('div.input').hide();\n",
    " } else {\n",
    " $('div.input').show();\n",
    " }\n",
    " code_show = !code_show\n",
    "} \n",
    "$( document ).ready(code_toggle);\n",
    "</script>\n",
    "<form action=\"javascript:code_toggle()\"><input type=\"submit\" value=\"Click here to toggle on/off the raw code.\"></form>''')"
   ]
  },
  {
   "cell_type": "code",
   "execution_count": 1,
   "metadata": {},
   "outputs": [],
   "source": [
    "import numpy as np \n",
    "import pandas as pd \n",
    "import seaborn as sns\n",
    "import matplotlib.pyplot as plt\n",
    "from datetime import datetime\n",
    "from random import choice\n",
    "import random\n",
    "import networkx as nx\n",
    "\n",
    "from pandas.io.json import json_normalize"
   ]
  },
  {
   "cell_type": "markdown",
   "metadata": {},
   "source": [
    "bitcoind -daemon\n",
    "\n",
    "~/lightning/lightningd/lightningd --network=bitcoin --log-level=debug\n",
    "\n",
    "\n",
    "~/lightning/cli/lightning-cli listchannels  > /Users/dariuscognac/Documents/GitHub/Lightning-Network-Topological-Analysis/list_of_channels1.json\n"
   ]
  },
  {
   "cell_type": "code",
   "execution_count": null,
   "metadata": {},
   "outputs": [],
   "source": [
    "!~/lightning/cli/lightning-cli listnodes > /Users/dariuscognac/Documents/GitHub/Lightning-Network-Topological-Analysis/list_of_nodes.json"
   ]
  },
  {
   "cell_type": "code",
   "execution_count": null,
   "metadata": {},
   "outputs": [],
   "source": [
    "!~/lightning/cli/lightning-cli listchannels  > /Users/dariuscognac/Documents/GitHub/Lightning-Network-Topological-Analysis/list_of_channels1.json"
   ]
  },
  {
   "cell_type": "code",
   "execution_count": 2,
   "metadata": {},
   "outputs": [],
   "source": [
    "# LOAD AND FORMAT DATA\n",
    "nodes_temp = pd.read_json('list_of_nodes1.json')\n",
    "nodes_table = json_normalize(nodes_temp['nodes'])\n",
    "\n",
    "channels_temp = pd.read_json('list_of_channels1.json')\n",
    "channels_table = json_normalize(channels_temp['channels'])\n",
    "\n",
    "# display(nodes_table.head())\n",
    "# display(channels_table.head())"
   ]
  },
  {
   "cell_type": "code",
   "execution_count": 3,
   "metadata": {},
   "outputs": [
    {
     "name": "stdout",
     "output_type": "stream",
     "text": [
      "Number of nodes = 2602\n",
      "Number of edges (payment channels) = 8045\n"
     ]
    }
   ],
   "source": [
    "# MAKE GRAPH\n",
    "G = nx.Graph()\n",
    "G.add_nodes_from(nodes_table['nodeid'])\n",
    "edges_list = [(channels_table['source'][i], channels_table['destination'][i]) for i in range(len(channels_table))]\n",
    "G.add_edges_from(edges_list)\n",
    "\n",
    "print('Number of nodes = ' + str(len(G.nodes())))\n",
    "print('Number of edges (payment channels) = ' + str(len(G.edges())))"
   ]
  },
  {
   "cell_type": "code",
   "execution_count": 4,
   "metadata": {},
   "outputs": [],
   "source": [
    "def print_subgraphs(G):\n",
    "    all_sub_G = list(nx.connected_component_subgraphs(G))\n",
    "    for i, sg in enumerate(all_sub_G):\n",
    "        print(\"subgraph {} has {} nodes\".format(i, sg.number_of_nodes()))\n",
    "        \n",
    "\n",
    "# Get just the main graph\n",
    "def get_main_subgraph(G):\n",
    "    \n",
    "    all_sub_G = list(nx.connected_component_subgraphs(G))\n",
    "    \n",
    "    largest_sg = 0\n",
    "    for i, sg in enumerate(all_sub_G):\n",
    "        if sg.number_of_nodes() > largest_sg:\n",
    "            largest_sg = sg.number_of_nodes()\n",
    "            main_G = sg\n",
    "        \n",
    "    return main_G\n",
    "\n",
    "\n",
    "# TO DO - OPTIMIZE THIS STAGE\n",
    "def average_node_connectivity_fast(G):\n",
    "    \n",
    "    nodes = list(G.nodes())\n",
    "    iterations = 100\n",
    "    tot_connectivity = 0\n",
    "    \n",
    "    for i in range (iterations):\n",
    "        rand_node_from = choice(nodes)\n",
    "        rand_node_to = choice(nodes)\n",
    "        \n",
    "        tot_connectivity += nx.algorithms.connectivity.connectivity.local_node_connectivity(G, rand_node_from, rand_node_to)\n",
    "   \n",
    "    avg_connectivity = tot_connectivity/iterations\n",
    "    \n",
    "    return avg_connectivity\n",
    "\n",
    "\n",
    "def add_x_nodes_with_perc_centrality(G, num_nodes_to_add, upper_percentile):\n",
    "\n",
    "    for i in range(num_nodes_to_add):\n",
    "\n",
    "        # Find nodes within top X% of highest centrality\n",
    "        potential_neighbors = list(find_nodes_high_percentile_deg_cent(main_G, upper_percentile))\n",
    "        \n",
    "        # pick two\n",
    "        new_neighbors = random.sample(potential_neighbors, 2)\n",
    "\n",
    "        \n",
    "        # Add new node and neighbors\n",
    "        newnode = 'newnodeID' + str(random.randint(1,10**20))\n",
    "        G.add_node(newnode)\n",
    "        \n",
    "        G.add_edges_from([(newnode,new_neighbors[0]), (newnode,new_neighbors[1])])\n",
    "        \n",
    "    return G\n",
    "        \n",
    "\n",
    "\n",
    "# Define find_nodes_with_highest_deg_cent()\n",
    "def find_nodes_high_percentile_deg_cent(G, upper_percentile):\n",
    "    \n",
    "\n",
    "    # Compute the degree centrality of G: deg_cent      \n",
    "    deg_cent = nx.degree_centrality(G)\n",
    "\n",
    "    # Compute the X percentile of degree centrality\n",
    "    dc = list(deg_cent.values())\n",
    "    high_percentile_dc = np.percentile(dc, upper_percentile)\n",
    "\n",
    "    nodes = set()\n",
    "\n",
    "    # Iterate over the degree centrality dictionary\n",
    "    for k, v in deg_cent.items():\n",
    "\n",
    "        # Check if the current value has the maximum degree centrality\n",
    "        if v > high_percentile_dc:\n",
    "\n",
    "            # Add the current node to the set of nodes\n",
    "            nodes.add(k)\n",
    "\n",
    "    return nodes\n",
    "\n",
    "\n"
   ]
  },
  {
   "cell_type": "code",
   "execution_count": 5,
   "metadata": {},
   "outputs": [
    {
     "name": "stdout",
     "output_type": "stream",
     "text": [
      "subgraph 0 has 2552 nodes\n",
      "subgraph 1 has 2 nodes\n",
      "subgraph 2 has 2 nodes\n",
      "subgraph 3 has 3 nodes\n",
      "subgraph 4 has 2 nodes\n",
      "subgraph 5 has 2 nodes\n",
      "subgraph 6 has 3 nodes\n",
      "subgraph 7 has 2 nodes\n",
      "subgraph 8 has 2 nodes\n",
      "subgraph 9 has 2 nodes\n",
      "subgraph 10 has 2 nodes\n",
      "subgraph 11 has 2 nodes\n",
      "subgraph 12 has 2 nodes\n",
      "subgraph 13 has 2 nodes\n",
      "subgraph 14 has 2 nodes\n",
      "subgraph 15 has 2 nodes\n",
      "subgraph 16 has 2 nodes\n",
      "subgraph 17 has 2 nodes\n",
      "subgraph 18 has 2 nodes\n",
      "subgraph 19 has 2 nodes\n",
      "subgraph 20 has 2 nodes\n",
      "subgraph 21 has 2 nodes\n",
      "subgraph 22 has 2 nodes\n",
      "subgraph 23 has 2 nodes\n",
      "subgraph 24 has 2 nodes\n"
     ]
    }
   ],
   "source": [
    "print_subgraphs(G)"
   ]
  },
  {
   "cell_type": "code",
   "execution_count": 6,
   "metadata": {},
   "outputs": [
    {
     "name": "stdout",
     "output_type": "stream",
     "text": [
      "subgraph 0 has 2552 nodes\n"
     ]
    }
   ],
   "source": [
    "main_G = get_main_subgraph(G)\n",
    "print_subgraphs(main_G)"
   ]
  },
  {
   "cell_type": "code",
   "execution_count": 8,
   "metadata": {},
   "outputs": [
    {
     "data": {
      "text/plain": [
       "1.59"
      ]
     },
     "execution_count": 8,
     "metadata": {},
     "output_type": "execute_result"
    }
   ],
   "source": [
    "connectivity = average_node_connectivity_fast(main_G)\n",
    "connectivity"
   ]
  },
  {
   "cell_type": "code",
   "execution_count": 9,
   "metadata": {},
   "outputs": [
    {
     "name": "stdout",
     "output_type": "stream",
     "text": [
      "3052\n"
     ]
    }
   ],
   "source": [
    "main_G1 = get_main_subgraph(G)\n",
    "main_G1 = add_x_nodes_with_perc_centrality(main_G1, 500, 99.5)\n",
    "\n",
    "print(len(main_G1.nodes()))"
   ]
  },
  {
   "cell_type": "code",
   "execution_count": 16,
   "metadata": {},
   "outputs": [
    {
     "data": {
      "text/plain": [
       "1.64"
      ]
     },
     "execution_count": 16,
     "metadata": {},
     "output_type": "execute_result"
    }
   ],
   "source": [
    "connectivity = average_node_connectivity_fast(main_G1)\n",
    "connectivity"
   ]
  },
  {
   "cell_type": "code",
   "execution_count": 13,
   "metadata": {},
   "outputs": [
    {
     "name": "stdout",
     "output_type": "stream",
     "text": [
      "3052\n"
     ]
    }
   ],
   "source": [
    "main_G2 = get_main_subgraph(G) # TODO: Need to keep these graphs separate\n",
    "main_G2 = add_x_nodes_with_perc_centrality(main_G2, 500, 0)\n",
    "print(len(main_G2.nodes()))"
   ]
  },
  {
   "cell_type": "code",
   "execution_count": 15,
   "metadata": {},
   "outputs": [
    {
     "data": {
      "text/plain": [
       "1.95"
      ]
     },
     "execution_count": 15,
     "metadata": {},
     "output_type": "execute_result"
    }
   ],
   "source": [
    "connectivity = average_node_connectivity_fast(main_G2)\n",
    "connectivity"
   ]
  },
  {
   "cell_type": "code",
   "execution_count": null,
   "metadata": {},
   "outputs": [],
   "source": []
  },
  {
   "cell_type": "code",
   "execution_count": null,
   "metadata": {},
   "outputs": [],
   "source": [
    "main_G = get_main_subgraph(G)\n",
    "\n",
    "# Find nodes within top X% of highest centrality\n",
    "potential_neighbors = list(find_nodes_high_percentile_deg_cent(main_G, upper_percentile = 99.99))\n",
    "\n",
    "# pick two\n",
    "new_neighbors = random.sample(a, 2)\n",
    "\n",
    "new_neighbors"
   ]
  },
  {
   "cell_type": "code",
   "execution_count": null,
   "metadata": {},
   "outputs": [],
   "source": []
  },
  {
   "cell_type": "code",
   "execution_count": null,
   "metadata": {},
   "outputs": [],
   "source": []
  },
  {
   "cell_type": "code",
   "execution_count": null,
   "metadata": {},
   "outputs": [],
   "source": [
    "high_deg_cent = list(find_nodes_high_percentile_deg_cent(main_G, upper_percentile=99))\n",
    "high_deg_cent"
   ]
  },
  {
   "cell_type": "code",
   "execution_count": null,
   "metadata": {},
   "outputs": [],
   "source": []
  },
  {
   "cell_type": "code",
   "execution_count": null,
   "metadata": {},
   "outputs": [],
   "source": [
    "# Compute the betweenness centrality of T: bet_cen\n",
    "bet_cen = nx.betweenness_centrality(main_G)\n",
    "\n",
    "# Compute the degree centrality of T: deg_cen\n",
    "deg_cen = nx.degree_centrality(main_G)"
   ]
  },
  {
   "cell_type": "code",
   "execution_count": null,
   "metadata": {},
   "outputs": [],
   "source": [
    "plt.hist(deg_cen.values())\n",
    "plt.show()"
   ]
  },
  {
   "cell_type": "code",
   "execution_count": null,
   "metadata": {},
   "outputs": [],
   "source": [
    "plt.hist(bet_cen.values())\n",
    "plt.show()"
   ]
  },
  {
   "cell_type": "code",
   "execution_count": null,
   "metadata": {},
   "outputs": [],
   "source": [
    "plt.scatter(x = list(bet_cen.values()), y = list(deg_cen.values()));\n"
   ]
  },
  {
   "cell_type": "code",
   "execution_count": null,
   "metadata": {},
   "outputs": [],
   "source": []
  },
  {
   "cell_type": "code",
   "execution_count": null,
   "metadata": {},
   "outputs": [],
   "source": []
  },
  {
   "cell_type": "code",
   "execution_count": null,
   "metadata": {},
   "outputs": [],
   "source": []
  },
  {
   "cell_type": "code",
   "execution_count": null,
   "metadata": {},
   "outputs": [],
   "source": []
  },
  {
   "cell_type": "code",
   "execution_count": null,
   "metadata": {},
   "outputs": [],
   "source": [
    "nx.draw(main_G, with_labels=False, font_weight='bold')"
   ]
  },
  {
   "cell_type": "code",
   "execution_count": null,
   "metadata": {},
   "outputs": [],
   "source": [
    "from nxviz import CircosPlot\n",
    "from nxviz import ArcPlot"
   ]
  },
  {
   "cell_type": "code",
   "execution_count": null,
   "metadata": {},
   "outputs": [],
   "source": [
    "h = CircosPlot(main_G)\n",
    "\n",
    "# Draw the ArcPlot to the screen\n",
    "h.draw()\n",
    "plt.show()\n"
   ]
  },
  {
   "cell_type": "code",
   "execution_count": null,
   "metadata": {},
   "outputs": [],
   "source": [
    "b = ArcPlot(main_G)\n",
    "\n",
    "# Draw the ArcPlot to the screen\n",
    "b.draw()\n",
    "plt.show()"
   ]
  },
  {
   "cell_type": "code",
   "execution_count": null,
   "metadata": {},
   "outputs": [],
   "source": []
  },
  {
   "cell_type": "code",
   "execution_count": null,
   "metadata": {},
   "outputs": [],
   "source": []
  },
  {
   "cell_type": "code",
   "execution_count": null,
   "metadata": {},
   "outputs": [],
   "source": [
    "# Clique size distribution\n",
    "cliques = list(nx.find_cliques(main_G))\n",
    "cliq_len = [len(cliques[i]) for i in range(len(cliques))]\n",
    "\n",
    "plt.hist(cliq_len);"
   ]
  },
  {
   "cell_type": "code",
   "execution_count": null,
   "metadata": {},
   "outputs": [],
   "source": []
  },
  {
   "cell_type": "code",
   "execution_count": null,
   "metadata": {},
   "outputs": [],
   "source": []
  }
 ],
 "metadata": {
  "kernelspec": {
   "display_name": "Python 3",
   "language": "python",
   "name": "python3"
  },
  "language_info": {
   "codemirror_mode": {
    "name": "ipython",
    "version": 3
   },
   "file_extension": ".py",
   "mimetype": "text/x-python",
   "name": "python",
   "nbconvert_exporter": "python",
   "pygments_lexer": "ipython3",
   "version": "3.7.0"
  }
 },
 "nbformat": 4,
 "nbformat_minor": 2
}
