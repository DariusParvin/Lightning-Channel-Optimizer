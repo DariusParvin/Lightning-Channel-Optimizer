{
 "cells": [
  {
   "cell_type": "code",
   "execution_count": 7,
   "metadata": {
    "code_folding": []
   },
   "outputs": [],
   "source": [
    "# IMPORT LIBRARIES\n",
    "# import numpy as np \n",
    "import pandas as pd \n",
    "from pandas.io.json import json_normalize\n",
    "import json\n",
    "# import seaborn as sns\n",
    "# import matplotlib.pyplot as plt\n",
    "# from matplotlib.ticker import ScalarFormatter\n",
    "# from datetime import datetime\n",
    "# from random import choice\n",
    "# import random\n",
    "import networkx as nx\n",
    "# import os\n",
    "# import collections\n",
    "# import itertools\n",
    "# import warnings\n",
    "# warnings.filterwarnings('ignore')"
   ]
  },
  {
   "cell_type": "code",
   "execution_count": 8,
   "metadata": {
    "code_folding": [
     0
    ]
   },
   "outputs": [],
   "source": [
    "# LIGHTNING FUNCTIONS\n",
    "\n",
    "# GET THE MAIN GRAPH\n",
    "def get_main_subgraph(G):\n",
    "    all_sub_G = list(nx.connected_component_subgraphs(G))\n",
    "    largest_sg = 0\n",
    "    for i, sg in enumerate(all_sub_G):\n",
    "        if sg.number_of_nodes() > largest_sg:\n",
    "            largest_sg = sg.number_of_nodes()\n",
    "            main_G = sg\n",
    "    return main_G\n",
    "\n",
    "\n",
    "# CONNECT TO SELECTED NODES\n",
    "def connect_to_new_neighbors(new_neighbors, channel_capacity_sats):\n",
    "    print(\"Connecting to the following nodes:\\n\\n\")\n",
    "    node_alias=[]; num_channels=[]; ip_address=[]\n",
    "\n",
    "    for i in range(len(new_neighbors)):\n",
    "        nd = nodes_table[nodes_table['nodeid']==new_neighbors[i]]\n",
    "        node_alias.append(str(nd['alias']))\n",
    "        num_channels.append(len(list(G.neighbors(new_neighbors[i]))))\n",
    "        ip_address.append(list(nd['addresses'])[0][0]['address'])\n",
    "        print(\"node ID: \"+new_neighbors[i])\n",
    "        print(\"node alias: \"+node_alias[i])\n",
    "        print(\"number of channels: \"+str(num_channels[i])+\"\\n\")\n",
    "        \n",
    "    for i in range(len(new_neighbors)):\n",
    "\n",
    "        print(\"Setting up payment channel with \"+node_alias[i]+\"\\n\");\n",
    "        connect = lightning_dir+\"lightning-cli connect \"+new_neighbors[i]+\"@\"+ip_address[i]\n",
    "        print(connect)\n",
    "        os.system(connect);\n",
    "\n",
    "        fund_channel = lightning_dir+\"lightning-cli fundchannel \"+new_neighbors[i]+\" \"+str(channel_capacity_sats)\n",
    "        print(fund_channel)\n",
    "        print(\"\\n\")\n",
    "        os.system(fund_channel);\n",
    "    \n",
    "    \n",
    "\n",
    "# DISPLAY NEW NEIGHBOR INFO\n",
    "def display_new_neighbors(G, new_neighbors):\n",
    "    print(\"Do you want to connect to the following nodes?\\n\\n\")\n",
    "    node_alias=[]; num_channels=[]; ip_address=[]\n",
    "\n",
    "    for i in range(len(new_neighbors)):\n",
    "        nd = nodes_table[nodes_table['nodeid']==new_neighbors[i]]\n",
    "        node_alias.append(str(nd['alias']))\n",
    "        num_channels.append(len(list(G.neighbors(new_neighbors[i]))))\n",
    "        ip_address.append(list(nd['addresses'])[0][0]['address'])\n",
    "        print(\"node ID: \"+new_neighbors[i])\n",
    "        print(\"node alias: \"+node_alias[i])\n",
    "        print(\"number of channels: \"+str(num_channels[i])+\"\\n\")\n",
    "       \n",
    "    \n",
    "# CREATE NEW GRAPH WITH NEW NODE AND EDGES\n",
    "def make_graph_with_new_neighbors(G, new_neighbors, new_node_id):\n",
    "    G_new = G.copy()\n",
    "    G_new.add_node(new_node_id)\n",
    "    new_edges = [(new_node_id,i) for i in new_neighbors]\n",
    "    G_new.add_edges_from(new_edges)\n",
    "    return(G_new)"
   ]
  },
  {
   "cell_type": "code",
   "execution_count": 9,
   "metadata": {
    "code_folding": [
     0
    ]
   },
   "outputs": [
    {
     "name": "stdout",
     "output_type": "stream",
     "text": [
      "Number of nodes = 1270\n",
      "Number of edges (payment channels) = 5553\n",
      "Your node ID: 037a7c0723cbaf0523445235540f12a74df3ca71d9f723c1a391f7d1d61753643c\n"
     ]
    }
   ],
   "source": [
    "# GET DATA\n",
    "lightning_dir = \"~/lightning/cli/\"\n",
    "filename='demo_'\n",
    "\n",
    "save_dir = \"> /Users/dariuscognac/Documents/GitHub/Lightning-Network-Topological-Analysis/\"\n",
    "listnodes = lightning_dir + \"lightning-cli listnodes\" + save_dir + filename + \"list_of_nodes.json\"\n",
    "listchannels = lightning_dir + \"lightning-cli listchannels\" + save_dir + filename + \"list_of_channels.json\"\n",
    "getinfo = lightning_dir + \"lightning-cli getinfo\" + save_dir + filename + \"info.json\"\n",
    "\n",
    "# os.system(listnodes);\n",
    "# os.system(listchannels);\n",
    "# os.system(getinfo);\n",
    "\n",
    "\n",
    "# LOAD AND FORMAT DATA\n",
    "nodes_temp = pd.read_json(filename + 'list_of_nodes.json')\n",
    "nodes_table = json_normalize(nodes_temp['nodes'])\n",
    "channels_temp = pd.read_json(filename + 'list_of_channels.json')\n",
    "channels_table = json_normalize(channels_temp['channels'])\n",
    "with open('demo_info.json') as json_data:\n",
    "    info = json.load(json_data)\n",
    "node_id = info['id']\n",
    "\n",
    "\n",
    "# MAKE GRAPH\n",
    "G = nx.Graph()\n",
    "G.add_nodes_from(nodes_table['nodeid'])\n",
    "edges_list = [(channels_table['source'][i], channels_table['destination'][i]) for i in range(len(channels_table))]\n",
    "G.add_edges_from(edges_list)\n",
    "\n",
    "G = get_main_subgraph(G)\n",
    "\n",
    "print('Number of nodes = ' + str(len(G.nodes())))\n",
    "print('Number of edges (payment channels) = ' + str(len(G.edges())))\n",
    "print('Your node ID: ' + node_id)"
   ]
  },
  {
   "cell_type": "code",
   "execution_count": 10,
   "metadata": {
    "code_folding": [
     0
    ]
   },
   "outputs": [],
   "source": [
    "# FUNCTIONS FOR PICKING NEIGHBORS\n",
    "\n",
    "\n",
    "def pick_highest_metric_nodes(G, centrality_measure, num_channels_to_make):    \n",
    "    centrality_dict = get_centrality_dict(G, centrality_measure)\n",
    "    centrality_list = [(id, centrality_dict.get(id)) for id in centrality_dict]\n",
    "    sorted_by_second = sorted(centrality_list, key=lambda tup: tup[1], reverse=True) # Sort by betweenness centrality\n",
    "    return [id for id, val in sorted_by_second[0: (num_channels_to_make)]]\n",
    "\n",
    "\n",
    "def pick_poor_connected_nodes(G, min_degree, num_channels_to_make):\n",
    "    degree = get_centrality_dict(G, 'degree')\n",
    "    between_centrality = get_centrality_dict(G, 'betweenness')\n",
    "    \n",
    "    min_degree_nodes = set()\n",
    "    for id, deg in degree.items():\n",
    "        if deg > min_degree:\n",
    "            min_degree_nodes.add(id)\n",
    "            \n",
    "    bet_centrality = [(id, between_centrality.get(id)) for id in min_degree_nodes]\n",
    "    sorted_by_second = sorted(bet_centrality, key=lambda tup: tup[1]) # Sort by betweenness centrality\n",
    "    return [id for id, val in sorted_by_second[0: (num_channels_to_make)]]\n"
   ]
  },
  {
   "cell_type": "code",
   "execution_count": 11,
   "metadata": {
    "code_folding": [
     0
    ]
   },
   "outputs": [],
   "source": [
    "# PLOTTING FUNCTIONS\n",
    "\n",
    "def plot_ego_graph(fig, ax, G, new_node_id, centrality_measure, edge_radius):\n",
    "    # Create ego graphs\n",
    "    ego_graph = nx.ego_graph(G, new_node_id, radius=edge_radius)\n",
    "\n",
    "    pos=nx.spring_layout(ego_graph, seed=3)\n",
    "    centrality_dict = get_centrality_dict(G, centrality_measure)\n",
    "\n",
    "    # Draw larger extended network \n",
    "    graph1_color_vals = [centrality_dict.get(node) for node in ego_graph.nodes()]\n",
    "    nx.draw_networkx_nodes(ego_graph, ax=ax, pos=pos, cmap=plt.get_cmap('viridis'), \n",
    "            node_color=graph1_color_vals, node_size=100, alpha=0.6)\n",
    "    nx.draw_networkx_edges(ego_graph, ax=ax, pos=pos, alpha=0.3, edge_color='grey')\n",
    "\n",
    "    # Draw immediate network with stronger alpha\n",
    "    immediate_graph = nx.ego_graph(G, new_node_id, radius=1)\n",
    "    \n",
    "    graph2_color_vals = [centrality_dict.get(node) for node in immediate_graph.nodes()]\n",
    "    nx.draw(immediate_graph, ax=ax, pos=pos, cmap=plt.get_cmap('viridis'), with_labels = False, \n",
    "            node_color=graph2_color_vals, node_size=400, alpha=1, edge_color='k', width = 5)\n",
    "    \n",
    "    # Create 'X' label for new node\n",
    "    labels = {}    \n",
    "    for node in immediate_graph.nodes():\n",
    "        if node == new_node_id:\n",
    "            #set the node name as the key and the label as its value \n",
    "            labels[node] = 'X'\n",
    "    nx.draw_networkx_labels(immediate_graph, pos, labels, font_size=18, font_color='r', font_weight='bold', ax=ax)\n",
    "    \n",
    "    \n",
    "def get_centrality_dict(G, centrality_measure):\n",
    "    switcher = {\n",
    "        'degree': dict(nx.degree(G)) ,\n",
    "        'betweenness': nx.betweenness_centrality(G),\n",
    "        'closeness': nx.closeness_centrality(G),\n",
    "        'eccentricity': nx.eccentricity(G)\n",
    "    }\n",
    "    return switcher.get(centrality_measure)\n",
    "\n",
    "\n",
    "def plot_centrality_hist(fig, ax, G, centrality_measure, new_node_id):\n",
    "    centrality_dict = get_centrality_dict(G, centrality_measure)\n",
    "    \n",
    "    ax.hist(centrality_dict.values(),bins=25)\n",
    "    node_centrality_value = centrality_dict.get(new_node_id)\n",
    "    ax.axvline(x=node_centrality_value, color='r', linewidth=5)\n",
    "    \n",
    "    ax.set_yscale('log')    \n",
    "    ax.yaxis.set_major_formatter(ScalarFormatter())\n",
    "    ax.title.set_text(centrality_measure + ' = ' + '%.2g' % node_centrality_value)\n",
    "    \n",
    "    \n",
    "def plot_new_node_summary_fig(G, new_node_id, edge_radius):\n",
    "    sns.set(font_scale=2)\n",
    "    \n",
    "    fig = plt.figure(0, figsize=(16,16))\n",
    "    ax0 = plt.subplot2grid((3, 3), (0, 0), colspan=3, rowspan=2)\n",
    "    ax1 = plt.subplot2grid((3, 3), (2, 0))\n",
    "    ax2 = plt.subplot2grid((3, 3), (2, 1))\n",
    "    ax3 = plt.subplot2grid((3, 3), (2, 2))\n",
    "\n",
    "    plot_ego_graph(fig, ax0, G, new_node_id, centrality_measure='betweenness', edge_radius=edge_radius)\n",
    "    plot_centrality_hist(fig, ax1, G, centrality_measure='degree', new_node_id=new_node_id)\n",
    "    plot_centrality_hist(fig, ax2, G, centrality_measure='betweenness', new_node_id=new_node_id)\n",
    "    plot_centrality_hist(fig, ax3, G, centrality_measure='closeness', new_node_id=new_node_id)\n",
    "    \n",
    "    plt.show()"
   ]
  },
  {
   "cell_type": "code",
   "execution_count": 12,
   "metadata": {
    "code_folding": []
   },
   "outputs": [],
   "source": [
    "new_neighbors = pick_highest_metric_nodes(G, centrality_measure='betweenness', num_channels_to_make=2)\n",
    "# connect_to_new_neighbors(new_neighbors, channel_capacity_sats=20000)"
   ]
  },
  {
   "cell_type": "code",
   "execution_count": 13,
   "metadata": {},
   "outputs": [
    {
     "data": {
      "text/plain": [
       "['02ad6fb8d693dc1e4569bcedefadf5f72a931ae027dc0f0c544b34c1c6f3b9a02b',\n",
       " '0279c22ed7a068d10dc1a38ae66d2d6461e269226c60258c021b1ddcdfe4b00bc4']"
      ]
     },
     "execution_count": 13,
     "metadata": {},
     "output_type": "execute_result"
    }
   ],
   "source": [
    "new_neighbors\n"
   ]
  },
  {
   "cell_type": "code",
   "execution_count": null,
   "metadata": {},
   "outputs": [],
   "source": []
  }
 ],
 "metadata": {
  "kernelspec": {
   "display_name": "Python 3",
   "language": "python",
   "name": "python3"
  },
  "language_info": {
   "codemirror_mode": {
    "name": "ipython",
    "version": 3
   },
   "file_extension": ".py",
   "mimetype": "text/x-python",
   "name": "python",
   "nbconvert_exporter": "python",
   "pygments_lexer": "ipython3",
   "version": "3.7.0"
  }
 },
 "nbformat": 4,
 "nbformat_minor": 2
}
